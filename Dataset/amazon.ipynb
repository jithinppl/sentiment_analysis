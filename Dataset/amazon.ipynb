{
 "cells": [
  {
   "cell_type": "code",
   "execution_count": 58,
   "metadata": {},
   "outputs": [
    {
     "name": "stderr",
     "output_type": "stream",
     "text": [
      "C:\\Users\\Jithu\\Anaconda3\\lib\\site-packages\\IPython\\core\\interactiveshell.py:3057: DtypeWarning: Columns (1,4,7,8,17,18,19,20,21) have mixed types. Specify dtype option on import or set low_memory=False.\n",
      "  interactivity=interactivity, compiler=compiler, result=result)\n"
     ]
    },
    {
     "data": {
      "text/html": [
       "<div>\n",
       "<style scoped>\n",
       "    .dataframe tbody tr th:only-of-type {\n",
       "        vertical-align: middle;\n",
       "    }\n",
       "\n",
       "    .dataframe tbody tr th {\n",
       "        vertical-align: top;\n",
       "    }\n",
       "\n",
       "    .dataframe thead th {\n",
       "        text-align: right;\n",
       "    }\n",
       "</style>\n",
       "<table border=\"1\" class=\"dataframe\">\n",
       "  <thead>\n",
       "    <tr style=\"text-align: right;\">\n",
       "      <th></th>\n",
       "      <th>marketplace</th>\n",
       "      <th>customer_id</th>\n",
       "      <th>review_id</th>\n",
       "      <th>product_id</th>\n",
       "      <th>product_parent</th>\n",
       "      <th>product_title</th>\n",
       "      <th>product_category</th>\n",
       "      <th>star_rating</th>\n",
       "      <th>helpful_votes</th>\n",
       "      <th>total_votes</th>\n",
       "      <th>...</th>\n",
       "      <th>review_headline</th>\n",
       "      <th>review_body</th>\n",
       "      <th>review_date</th>\n",
       "      <th>Unnamed: 15</th>\n",
       "      <th>Unnamed: 16</th>\n",
       "      <th>Unnamed: 17</th>\n",
       "      <th>Unnamed: 18</th>\n",
       "      <th>Unnamed: 19</th>\n",
       "      <th>Unnamed: 20</th>\n",
       "      <th>Unnamed: 21</th>\n",
       "    </tr>\n",
       "  </thead>\n",
       "  <tbody>\n",
       "    <tr>\n",
       "      <th>0</th>\n",
       "      <td>US</td>\n",
       "      <td>41409413</td>\n",
       "      <td>R2MTG1GCZLR2DK</td>\n",
       "      <td>B00428R89M</td>\n",
       "      <td>112201306</td>\n",
       "      <td>yoomall 5M Antenna WIFI RP-SMA Female to Male ...</td>\n",
       "      <td>Electronics</td>\n",
       "      <td>5</td>\n",
       "      <td>0</td>\n",
       "      <td>0.0</td>\n",
       "      <td>...</td>\n",
       "      <td>Five Stars</td>\n",
       "      <td>As described.</td>\n",
       "      <td>31-08-2015</td>\n",
       "      <td>NaN</td>\n",
       "      <td>NaN</td>\n",
       "      <td>NaN</td>\n",
       "      <td>NaN</td>\n",
       "      <td>NaN</td>\n",
       "      <td>NaN</td>\n",
       "      <td>NaN</td>\n",
       "    </tr>\n",
       "    <tr>\n",
       "      <th>1</th>\n",
       "      <td>US</td>\n",
       "      <td>49668221</td>\n",
       "      <td>R2HBOEM8LE9928</td>\n",
       "      <td>B000068O48</td>\n",
       "      <td>734576678</td>\n",
       "      <td>Hosa GPM-103 3.5mm TRS to 1/4\" TRS Adaptor</td>\n",
       "      <td>Electronics</td>\n",
       "      <td>5</td>\n",
       "      <td>0</td>\n",
       "      <td>0.0</td>\n",
       "      <td>...</td>\n",
       "      <td>It works as advertising.</td>\n",
       "      <td>It works as advertising.</td>\n",
       "      <td>31-08-2015</td>\n",
       "      <td>NaN</td>\n",
       "      <td>NaN</td>\n",
       "      <td>NaN</td>\n",
       "      <td>NaN</td>\n",
       "      <td>NaN</td>\n",
       "      <td>NaN</td>\n",
       "      <td>NaN</td>\n",
       "    </tr>\n",
       "    <tr>\n",
       "      <th>2</th>\n",
       "      <td>US</td>\n",
       "      <td>12338275</td>\n",
       "      <td>R1P4RW1R9FDPEE</td>\n",
       "      <td>B000GGKOG8</td>\n",
       "      <td>614448099</td>\n",
       "      <td>Channel Master Titan 2 Antenna Preamplifier</td>\n",
       "      <td>Electronics</td>\n",
       "      <td>5</td>\n",
       "      <td>1</td>\n",
       "      <td>1.0</td>\n",
       "      <td>...</td>\n",
       "      <td>Five Stars</td>\n",
       "      <td>Works pissa</td>\n",
       "      <td>31-08-2015</td>\n",
       "      <td>NaN</td>\n",
       "      <td>NaN</td>\n",
       "      <td>NaN</td>\n",
       "      <td>NaN</td>\n",
       "      <td>NaN</td>\n",
       "      <td>NaN</td>\n",
       "      <td>NaN</td>\n",
       "    </tr>\n",
       "    <tr>\n",
       "      <th>3</th>\n",
       "      <td>US</td>\n",
       "      <td>38487968</td>\n",
       "      <td>R1EBPM82ENI67M</td>\n",
       "      <td>B000NU4OTA</td>\n",
       "      <td>72265257</td>\n",
       "      <td>LIMTECH Wall charger + USB Hotsync &amp; Charging ...</td>\n",
       "      <td>Electronics</td>\n",
       "      <td>1</td>\n",
       "      <td>0</td>\n",
       "      <td>0.0</td>\n",
       "      <td>...</td>\n",
       "      <td>One Star</td>\n",
       "      <td>Did not work at all.</td>\n",
       "      <td>31-08-2015</td>\n",
       "      <td>NaN</td>\n",
       "      <td>NaN</td>\n",
       "      <td>NaN</td>\n",
       "      <td>NaN</td>\n",
       "      <td>NaN</td>\n",
       "      <td>NaN</td>\n",
       "      <td>NaN</td>\n",
       "    </tr>\n",
       "    <tr>\n",
       "      <th>4</th>\n",
       "      <td>US</td>\n",
       "      <td>23732619</td>\n",
       "      <td>R372S58V6D11AT</td>\n",
       "      <td>B00JOQIO6S</td>\n",
       "      <td>308169188</td>\n",
       "      <td>Skullcandy Air Raid Portable Bluetooth Speaker</td>\n",
       "      <td>Electronics</td>\n",
       "      <td>5</td>\n",
       "      <td>1</td>\n",
       "      <td>1.0</td>\n",
       "      <td>...</td>\n",
       "      <td>Overall pleased with the item</td>\n",
       "      <td>Works well. Bass is somewhat lacking but is pr...</td>\n",
       "      <td>31-08-2015</td>\n",
       "      <td>NaN</td>\n",
       "      <td>NaN</td>\n",
       "      <td>NaN</td>\n",
       "      <td>NaN</td>\n",
       "      <td>NaN</td>\n",
       "      <td>NaN</td>\n",
       "      <td>NaN</td>\n",
       "    </tr>\n",
       "  </tbody>\n",
       "</table>\n",
       "<p>5 rows × 22 columns</p>\n",
       "</div>"
      ],
      "text/plain": [
       "  marketplace customer_id       review_id  product_id product_parent  \\\n",
       "0          US    41409413  R2MTG1GCZLR2DK  B00428R89M      112201306   \n",
       "1          US    49668221  R2HBOEM8LE9928  B000068O48      734576678   \n",
       "2          US    12338275  R1P4RW1R9FDPEE  B000GGKOG8      614448099   \n",
       "3          US    38487968  R1EBPM82ENI67M  B000NU4OTA       72265257   \n",
       "4          US    23732619  R372S58V6D11AT  B00JOQIO6S      308169188   \n",
       "\n",
       "                                       product_title product_category  \\\n",
       "0  yoomall 5M Antenna WIFI RP-SMA Female to Male ...      Electronics   \n",
       "1         Hosa GPM-103 3.5mm TRS to 1/4\" TRS Adaptor      Electronics   \n",
       "2        Channel Master Titan 2 Antenna Preamplifier      Electronics   \n",
       "3  LIMTECH Wall charger + USB Hotsync & Charging ...      Electronics   \n",
       "4     Skullcandy Air Raid Portable Bluetooth Speaker      Electronics   \n",
       "\n",
       "  star_rating helpful_votes  total_votes  ...                review_headline  \\\n",
       "0           5             0          0.0  ...                     Five Stars   \n",
       "1           5             0          0.0  ...       It works as advertising.   \n",
       "2           5             1          1.0  ...                     Five Stars   \n",
       "3           1             0          0.0  ...                       One Star   \n",
       "4           5             1          1.0  ...  Overall pleased with the item   \n",
       "\n",
       "                                         review_body review_date Unnamed: 15  \\\n",
       "0                                      As described.  31-08-2015         NaN   \n",
       "1                           It works as advertising.  31-08-2015         NaN   \n",
       "2                                        Works pissa  31-08-2015         NaN   \n",
       "3                               Did not work at all.  31-08-2015         NaN   \n",
       "4  Works well. Bass is somewhat lacking but is pr...  31-08-2015         NaN   \n",
       "\n",
       "  Unnamed: 16  Unnamed: 17  Unnamed: 18 Unnamed: 19 Unnamed: 20 Unnamed: 21  \n",
       "0         NaN          NaN          NaN         NaN         NaN         NaN  \n",
       "1         NaN          NaN          NaN         NaN         NaN         NaN  \n",
       "2         NaN          NaN          NaN         NaN         NaN         NaN  \n",
       "3         NaN          NaN          NaN         NaN         NaN         NaN  \n",
       "4         NaN          NaN          NaN         NaN         NaN         NaN  \n",
       "\n",
       "[5 rows x 22 columns]"
      ]
     },
     "execution_count": 58,
     "metadata": {},
     "output_type": "execute_result"
    }
   ],
   "source": [
    "import pandas as pd\n",
    "df = pd.read_csv(\"amazon_reviews.tsv\",sep=\"\\t\")\n",
    "df.head()"
   ]
  },
  {
   "cell_type": "code",
   "execution_count": 59,
   "metadata": {},
   "outputs": [],
   "source": [
    "newdf = pd.DataFrame()\n",
    "newdf=df[df['star_rating']==1].iloc[0:2000,]\n",
    "newdf=newdf.append(df[df['star_rating']==5].iloc[0:2000,])\n"
   ]
  },
  {
   "cell_type": "code",
   "execution_count": 60,
   "metadata": {},
   "outputs": [
    {
     "name": "stdout",
     "output_type": "stream",
     "text": [
      "(4000, 22)\n"
     ]
    }
   ],
   "source": [
    "newdf['star_rating'].value_counts()\n",
    "print(newdf.shape)"
   ]
  },
  {
   "cell_type": "code",
   "execution_count": 62,
   "metadata": {},
   "outputs": [],
   "source": [
    "finaldf = pd.DataFrame()\n",
    "finaldf['reviews']=newdf['review_body']\n",
    "finaldf['star_rating']=newdf['star_rating']\n"
   ]
  },
  {
   "cell_type": "code",
   "execution_count": 63,
   "metadata": {},
   "outputs": [
    {
     "data": {
      "text/plain": [
       "(4000, 2)"
      ]
     },
     "execution_count": 63,
     "metadata": {},
     "output_type": "execute_result"
    }
   ],
   "source": [
    "finaldf.shape"
   ]
  },
  {
   "cell_type": "code",
   "execution_count": 64,
   "metadata": {},
   "outputs": [
    {
     "data": {
      "text/plain": [
       "5    2000\n",
       "1    2000\n",
       "Name: star_rating, dtype: int64"
      ]
     },
     "execution_count": 64,
     "metadata": {},
     "output_type": "execute_result"
    }
   ],
   "source": [
    "finaldf['star_rating'].value_counts()"
   ]
  },
  {
   "cell_type": "code",
   "execution_count": 65,
   "metadata": {},
   "outputs": [],
   "source": [
    "def sentiment(n):\n",
    "    return 1.0 if n == 5 else 0.0\n",
    "finaldf['sentiment'] = finaldf['star_rating'].apply(sentiment)"
   ]
  },
  {
   "cell_type": "code",
   "execution_count": 66,
   "metadata": {},
   "outputs": [],
   "source": [
    "finaldf = finaldf.drop('star_rating', 1)"
   ]
  },
  {
   "cell_type": "code",
   "execution_count": 67,
   "metadata": {},
   "outputs": [
    {
     "data": {
      "text/plain": [
       "1.0    2000\n",
       "0.0    2000\n",
       "Name: sentiment, dtype: int64"
      ]
     },
     "execution_count": 67,
     "metadata": {},
     "output_type": "execute_result"
    }
   ],
   "source": [
    "finaldf['sentiment'].value_counts()"
   ]
  },
  {
   "cell_type": "code",
   "execution_count": 68,
   "metadata": {},
   "outputs": [],
   "source": [
    "finaldf.to_csv(\"Amazon Electronics.csv\",index=False,header=True)"
   ]
  }
 ],
 "metadata": {
  "kernelspec": {
   "display_name": "Python 3",
   "language": "python",
   "name": "python3"
  },
  "language_info": {
   "codemirror_mode": {
    "name": "ipython",
    "version": 3
   },
   "file_extension": ".py",
   "mimetype": "text/x-python",
   "name": "python",
   "nbconvert_exporter": "python",
   "pygments_lexer": "ipython3",
   "version": "3.7.3"
  }
 },
 "nbformat": 4,
 "nbformat_minor": 2
}
