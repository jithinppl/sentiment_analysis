{
 "cells": [
  {
   "cell_type": "code",
   "execution_count": 3,
   "metadata": {},
   "outputs": [],
   "source": [
    "#Importing libraries\n",
    "from bs4 import BeautifulSoup\n",
    "from nltk.corpus import stopwords\n",
    "from collections import Counter\n",
    "from nltk.stem import PorterStemmer\n",
    "import pandas as pd\n",
    "from nltk.tokenize import word_tokenize\n",
    "import re\n",
    "import string\n",
    "import numpy as np\n",
    "from sklearn.utils import shuffle\n",
    "from sklearn.feature_extraction.text import CountVectorizer, TfidfVectorizer\n",
    "from sklearn.model_selection import train_test_split\n",
    "from sklearn.metrics import accuracy_score\n",
    "from sklearn import model_selection, naive_bayes, svm\n",
    "from sklearn.linear_model import LogisticRegression\n",
    "from sklearn.ensemble import RandomForestClassifier\n",
    "from sklearn.pipeline import Pipeline\n",
    "from sklearn.model_selection import GridSearchCV\n",
    "from sklearn.svm import LinearSVC\n",
    "from sklearn.decomposition import PCA\n",
    "from sklearn.feature_selection import RFE\n",
    "from sklearn.feature_selection import SelectKBest\n",
    "from sklearn.feature_selection import f_classif\n",
    "from sklearn.metrics import roc_curve, auc, accuracy_score, precision_recall_fscore_support\n",
    "from scipy import interp\n",
    "import pickle\n",
    "from xgboost import XGBClassifier\n",
    "import matplotlib.pyplot as plt\n",
    "%matplotlib inline"
   ]
  },
  {
   "cell_type": "code",
   "execution_count": 5,
   "metadata": {},
   "outputs": [],
   "source": [
    "#Loading electronic dataset\n",
    "pos_list=[]\n",
    "neg_list=[]\n",
    "with open(\"positive.txt\") as fp:\n",
    "    soup=BeautifulSoup(fp)\n",
    "    words=soup.find_all(\"review_text\")\n",
    "    for i in range(0,len(words)-1):\n",
    "        pos_list.append(words[i].string.strip('\\n'))\n",
    "\n",
    "with open(\"negative.txt\") as fp:\n",
    "    soup=BeautifulSoup(fp)\n",
    "    words=soup.find_all(\"review_text\")\n",
    "    for i in range(0,len(words)-1):\n",
    "        neg_list.append(words[i].string.strip('\\n'))"
   ]
  },
  {
   "cell_type": "code",
   "execution_count": 6,
   "metadata": {},
   "outputs": [],
   "source": [
    "#Loading Amazon dataset\n",
    "amazondata=pd.read_csv(\"Amazon Electronics.csv\")"
   ]
  },
  {
   "cell_type": "code",
   "execution_count": 7,
   "metadata": {},
   "outputs": [],
   "source": [
    "amazonlist=[]\n",
    "for val in amazondata['reviews']:\n",
    "    amazonlist.append(val)\n"
   ]
  },
  {
   "cell_type": "markdown",
   "metadata": {},
   "source": [
    "### Data Cleaning "
   ]
  },
  {
   "cell_type": "code",
   "execution_count": 8,
   "metadata": {},
   "outputs": [],
   "source": [
    "df = pd.DataFrame()\n",
    "stop_words = stopwords.words('english')\n",
    "porter=PorterStemmer()\n",
    "\n",
    "def clean_data(data):\n",
    "    new=[]\n",
    "    newlist=[]\n",
    "    for i in data:    \n",
    "        i = re.sub(r\"\\'m\", \" am\", i)\n",
    "        i = re.sub(r\"\\'ve\", \" have\", i)\n",
    "        i = re.sub(r\"n\\'t\", \" not\", i)\n",
    "        i = re.sub(r\"\\'re\", \" are\", i)\n",
    "        i = re.sub(r\"\\'s\", \" is\", i)\n",
    "        i = re.sub(r\"\\'d\", \" would\", i)\n",
    "        i = re.sub(r\"\\'ll\", \" will\", i)\n",
    "        i = re.sub(r\"(\\n+)\", \" \", i)\n",
    "        i=i.lower()\n",
    "        table = str.maketrans(dict.fromkeys(string.punctuation))\n",
    "        new.append(i.translate(table))\n",
    "    for text in new:\n",
    "        sentence=[]\n",
    "        word_list=text.split(' ')\n",
    "        for word in word_list:\n",
    "            if word not in stop_words and word.isalpha() and len(word)>2:            \n",
    "                sentence.append(porter.stem(word))\n",
    "        newlist.append(' '.join(sentence))\n",
    "    return newlist\n",
    "\n",
    "cleanpos_list=clean_data(pos_list)\n",
    "cleanneg_list=clean_data(neg_list)\n",
    "cleanamazon_list=clean_data(amazonlist)\n",
    "\n"
   ]
  },
  {
   "cell_type": "code",
   "execution_count": 9,
   "metadata": {},
   "outputs": [
    {
     "data": {
      "text/plain": [
       "(4000, 2)"
      ]
     },
     "execution_count": 9,
     "metadata": {},
     "output_type": "execute_result"
    }
   ],
   "source": [
    "df_amazon = pd.DataFrame(cleanamazon_list)\n",
    "df_amazon['sentiment']=amazondata['sentiment']\n",
    "df_amazon.columns = ['reviews', 'sentiment']  \n",
    "df_amazon.shape"
   ]
  },
  {
   "cell_type": "code",
   "execution_count": 10,
   "metadata": {},
   "outputs": [
    {
     "name": "stdout",
     "output_type": "stream",
     "text": [
      "                                             reviews  sentiment\n",
      "0  receiv kingston card advertis unit came mail e...        1.0\n",
      "1  work well especi anyon still old consol system...        1.0\n",
      "2  easi use larger panason use otherwis fine good...        1.0\n",
      "3  work much better expect page clip also good on...        1.0\n",
      "4  speedi space save inexpens bought replac belki...        1.0\n",
      "(5998, 2)\n"
     ]
    }
   ],
   "source": [
    "df_pos = pd.DataFrame(cleanpos_list)\n",
    "df_pos['sentiment'] = np.ones(len(cleanpos_list))\n",
    "df_pos.columns = ['reviews', 'sentiment']\n",
    "\n",
    "df_neg = pd.DataFrame(cleanneg_list)\n",
    "df_neg['sentiment'] = np.zeros(len(cleanneg_list))\n",
    "df_neg.columns = ['reviews', 'sentiment']\n",
    "\n",
    "df = df_pos.append(df_neg,ignore_index=True)\n",
    "finaldf=df.append(df_amazon,ignore_index=True)\n",
    "print(finaldf.head())\n",
    "print(finaldf.shape)"
   ]
  },
  {
   "cell_type": "code",
   "execution_count": 11,
   "metadata": {},
   "outputs": [],
   "source": [
    "finaldf = shuffle(finaldf)"
   ]
  },
  {
   "cell_type": "code",
   "execution_count": 12,
   "metadata": {},
   "outputs": [],
   "source": [
    "X=finaldf.iloc[:,0]\n",
    "y = finaldf.iloc[:,-1].values"
   ]
  },
  {
   "cell_type": "markdown",
   "metadata": {},
   "source": [
    "### Train and Test Splitting "
   ]
  },
  {
   "cell_type": "code",
   "execution_count": 13,
   "metadata": {},
   "outputs": [
    {
     "data": {
      "text/plain": [
       "((4798,), (4798,), (1200,), (1200,))"
      ]
     },
     "execution_count": 13,
     "metadata": {},
     "output_type": "execute_result"
    }
   ],
   "source": [
    "X_train, X_test, y_train, y_test = train_test_split(X, y, test_size=0.2,stratify=y,shuffle=True,random_state = 42)\n",
    "X_train.shape, y_train.shape, X_test.shape, y_test.shape"
   ]
  },
  {
   "cell_type": "markdown",
   "metadata": {},
   "source": [
    "### Vectorization "
   ]
  },
  {
   "cell_type": "code",
   "execution_count": 14,
   "metadata": {},
   "outputs": [],
   "source": [
    "#instanciating CountVectorizer to count frequencies\n",
    "cv = CountVectorizer()\n",
    "X_train = cv.fit_transform(X_train)\n",
    "X_test=cv.transform(X_test)"
   ]
  },
  {
   "cell_type": "code",
   "execution_count": 15,
   "metadata": {},
   "outputs": [
    {
     "data": {
      "text/plain": [
       "(4798, 9329)"
      ]
     },
     "execution_count": 15,
     "metadata": {},
     "output_type": "execute_result"
    }
   ],
   "source": [
    "X_train.shape"
   ]
  },
  {
   "cell_type": "markdown",
   "metadata": {},
   "source": [
    "# Random Forest"
   ]
  },
  {
   "cell_type": "code",
   "execution_count": 17,
   "metadata": {},
   "outputs": [
    {
     "name": "stdout",
     "output_type": "stream",
     "text": [
      "Best CV score = 0.814:\n",
      "Best parameters:  {'rf__bootstrap': True, 'rf__max_depth': 40, 'rf__max_features': 'auto', 'rf__min_samples_leaf': 1, 'rf__min_samples_split': 10, 'rf__n_estimators': 600}\n"
     ]
    }
   ],
   "source": [
    "pipe = Pipeline(steps=[('fclasif',SelectKBest(f_classif,k=100)),('rf', RandomForestClassifier())])\n",
    "\n",
    "# prepare a prameter grid\n",
    "param_grid = {\n",
    "    'rf__n_estimators' : [200, 400, 600, 800, 1000],\n",
    "    'rf__max_depth': [10, 20, 30, 40,],\n",
    "    'rf__bootstrap': [True, False],\n",
    "    'rf__max_features': ['auto', 'sqrt'],\n",
    "    'rf__min_samples_leaf': [1, 2, 4],\n",
    "    'rf__min_samples_split': [2, 5, 10]    \n",
    "}\n",
    "\n",
    "search = GridSearchCV(pipe, param_grid, cv=5, iid=False, refit=True)\n",
    "search.fit(X_train, y_train)\n",
    "print(\"Best CV score = %0.3f:\" % search.best_score_)\n",
    "print(\"Best parameters: \", search.best_params_)\n",
    "\n",
    "# store the best params and best model for later use\n",
    "RF_best_params = search.best_params_\n",
    "RF_best_model = search.best_estimator_\n",
    "test_pred = RF_best_model.predict(X_test)\n"
   ]
  },
  {
   "cell_type": "code",
   "execution_count": 61,
   "metadata": {},
   "outputs": [],
   "source": [
    "mean_fpr = np.linspace(start=0, stop=1, num=100)\n",
    "\n",
    "def evaluate_model(X_test, y_test, model):\n",
    "    # compute probabilistic predictiond for the evaluation set\n",
    "    _probabilities = model.predict_proba(X_test)[:, 1]\n",
    "    \n",
    "    # compute exact predictiond for the evaluation set\n",
    "    _predicted_values = model.predict(X_test)\n",
    "        \n",
    "    # compute accuracy\n",
    "    _accuracy = accuracy_score(y_test, _predicted_values)\n",
    "        \n",
    "    # compute precision, recall and f1 score for class 1\n",
    "    _precision, _recall, _f1_score, _ = precision_recall_fscore_support(y_test, _predicted_values, labels=[1])\n",
    "    \n",
    "    # compute fpr and tpr values for various thresholds \n",
    "    # by comparing the true target values to the predicted probabilities for class 1\n",
    "    _fpr, _tpr, _ = roc_curve(y_test, _probabilities)\n",
    "        \n",
    "    # compute true positive rates for the values in the array mean_fpr\n",
    "    _tpr_transformed = np.array([interp(mean_fpr, _fpr, _tpr)])\n",
    "    \n",
    "    # compute the area under the curve\n",
    "    _auc = auc(_fpr, _tpr)\n",
    "            \n",
    "    return _accuracy, _precision[0], _recall[0], _f1_score[0], _tpr_transformed, _auc"
   ]
  },
  {
   "cell_type": "code",
   "execution_count": 106,
   "metadata": {},
   "outputs": [
    {
     "name": "stdout",
     "output_type": "stream",
     "text": [
      "Accuracy: 0.82333\n",
      "RF_precision: 0.86059\n",
      "RF_recall: 0.77167\n",
      "RF_f1_score: 0.81371\n"
     ]
    },
    {
     "name": "stderr",
     "output_type": "stream",
     "text": [
      "C:\\Users\\Jithu\\Anaconda3\\lib\\site-packages\\ipykernel_launcher.py:23: DeprecationWarning: scipy.interp is deprecated and will be removed in SciPy 2.0.0, use numpy.interp instead\n"
     ]
    }
   ],
   "source": [
    "RF_accuracy, RF_precision, RF_recall, RF_f1_score, RF_tpr, RF_auc = evaluate_model(X_test, y_test, RF_best_model)\n",
    "print(\"Accuracy: {:.5f}\".format(RF_accuracy))\n",
    "print(\"RF_precision: {:.5f}\".format(RF_precision))\n",
    "print(\"RF_recall: {:.5f}\".format(RF_recall))\n",
    "print(\"RF_f1_score: {:.5f}\".format(RF_f1_score))\n"
   ]
  },
  {
   "cell_type": "markdown",
   "metadata": {},
   "source": [
    "# XGBoost"
   ]
  },
  {
   "cell_type": "code",
   "execution_count": 19,
   "metadata": {},
   "outputs": [
    {
     "name": "stdout",
     "output_type": "stream",
     "text": [
      "Best CV score = 0.819:\n",
      "Best parameters:  {'xgb__colsample_bytree': 0.5, 'xgb__gamma': 0.1, 'xgb__learning_rate': 0.3, 'xgb__max_depth': 10, 'xgb__min_child_weight': 1}\n"
     ]
    }
   ],
   "source": [
    "pipe = Pipeline(steps=[('fclasif',SelectKBest(f_classif,k=100)),('xgb', XGBClassifier())])\n",
    "\n",
    "\n",
    "param_grid = {\n",
    "    'xgb__learning_rate'    : [ 0.10,  0.20, 0.30 ] ,\n",
    "    'xgb__max_depth'        : [ 10, 20, 30],\n",
    "    'xgb__min_child_weight' : [ 1, 3, 5, 7 ],\n",
    "    'xgb__gamma'            : [ 0.0, 0.1, 0.2 , 0.3 ],\n",
    "    'xgb__colsample_bytree' : [ 0.5 , 0.7 , 0.9 ]\n",
    "}\n",
    "\n",
    "search = GridSearchCV(pipe, param_grid, cv=5, iid=False, refit=True)\n",
    "search.fit(X_train, y_train)\n",
    "print(\"Best CV score = %0.3f:\" % search.best_score_)\n",
    "print(\"Best parameters: \", search.best_params_)\n",
    "\n",
    "# store the best params and best model for later use\n",
    "XGB_best_params = search.best_params_\n",
    "XGB_best_model = search.best_estimator_\n",
    "test_pred = XGB_best_model.predict(X_test)"
   ]
  },
  {
   "cell_type": "code",
   "execution_count": 103,
   "metadata": {},
   "outputs": [
    {
     "name": "stdout",
     "output_type": "stream",
     "text": [
      "XGB__Accuracy: 0.82583\n",
      "XGB_precision: 0.85740\n",
      "XGB_recall: 0.78167\n",
      "XGB_f1_score: 0.81779\n"
     ]
    },
    {
     "name": "stderr",
     "output_type": "stream",
     "text": [
      "C:\\Users\\Jithu\\Anaconda3\\lib\\site-packages\\ipykernel_launcher.py:23: DeprecationWarning: scipy.interp is deprecated and will be removed in SciPy 2.0.0, use numpy.interp instead\n"
     ]
    }
   ],
   "source": [
    "XGB_accuracy, XGB_precision, XGB_recall, XGB_f1_score, XGB_tpr,XGB_auc = evaluate_model(X_test, y_test, XGB_best_model)\n",
    "print(\"XGB__Accuracy: {:.5f}\".format(XGB_accuracy))\n",
    "print(\"XGB_precision: {:.5f}\".format(XGB_precision))\n",
    "print(\"XGB_recall: {:.5f}\".format(XGB_recall))\n",
    "print(\"XGB_f1_score: {:.5f}\".format(XGB_f1_score))"
   ]
  },
  {
   "cell_type": "markdown",
   "metadata": {},
   "source": [
    "# Logistic Regression"
   ]
  },
  {
   "cell_type": "code",
   "execution_count": 20,
   "metadata": {},
   "outputs": [
    {
     "name": "stdout",
     "output_type": "stream",
     "text": [
      "Best CV score = 0.830:\n",
      "Best parameters:  {'lr__C': 0.615848211066026, 'lr__penalty': 'l2', 'lr__solver': 'sag'}\n"
     ]
    }
   ],
   "source": [
    "pipe = Pipeline(steps=[('fclasif',SelectKBest(f_classif,k=100)),('lr', LogisticRegression())])\n",
    "\n",
    "# prepare a prameter grid\n",
    "param_grid = {\n",
    "    'lr__penalty' : ['none', 'l2'],\n",
    "    'lr__C' : np.logspace(-4, 4, 20),\n",
    "    'lr__solver' : [ 'saga', 'lbfgs', 'sag','newton-cg']\n",
    "    }\n",
    "\n",
    "search = GridSearchCV(pipe, param_grid, cv=5, iid=False, refit=True)\n",
    "search.fit(X_train, y_train)\n",
    "print(\"Best CV score = %0.3f:\" % search.best_score_)\n",
    "print(\"Best parameters: \", search.best_params_)\n",
    "\n",
    "# store the best params and best model for later use\n",
    "LR_best_params = search.best_params_\n",
    "LR_best_model = search.best_estimator_\n",
    "test_pred = LR_best_model.predict(X_test)"
   ]
  },
  {
   "cell_type": "code",
   "execution_count": 101,
   "metadata": {},
   "outputs": [
    {
     "name": "stdout",
     "output_type": "stream",
     "text": [
      "Accuracy: 0.82000\n",
      "LR_precision: 0.81169\n",
      "LR_recall: 0.83333\n",
      "LR_f1_score: 0.82237\n"
     ]
    },
    {
     "name": "stderr",
     "output_type": "stream",
     "text": [
      "C:\\Users\\Jithu\\Anaconda3\\lib\\site-packages\\ipykernel_launcher.py:23: DeprecationWarning: scipy.interp is deprecated and will be removed in SciPy 2.0.0, use numpy.interp instead\n"
     ]
    }
   ],
   "source": [
    "LR_accuracy, LR_precision, LR_recall, LR_f1_score, LR_tpr,LR_auc = evaluate_model(X_test, y_test, LR_best_model)\n",
    "print(\"Accuracy: {:.5f}\".format(LR_accuracy))\n",
    "print(\"LR_precision: {:.5f}\".format(LR_precision))\n",
    "print(\"LR_recall: {:.5f}\".format(LR_recall))\n",
    "print(\"LR_f1_score: {:.5f}\".format(LR_f1_score))"
   ]
  },
  {
   "cell_type": "markdown",
   "metadata": {},
   "source": [
    "# SVM"
   ]
  },
  {
   "cell_type": "code",
   "execution_count": 22,
   "metadata": {},
   "outputs": [
    {
     "name": "stdout",
     "output_type": "stream",
     "text": [
      "Best CV score = 0.822:\n",
      "Best parameters:  {'svm__C': 100, 'svm__gamma': 0.01, 'svm__kernel': 'rbf'}\n"
     ]
    }
   ],
   "source": [
    "pipe = Pipeline(steps=[('fclasif',SelectKBest(f_classif,k=100)),('svm', svm.SVC(probability=True))])\n",
    "\n",
    "param_grid = {\n",
    "    'svm__C': [0.1, 1, 10, 100],  \n",
    "    'svm__gamma': [1, 0.1, 0.01, 0.001], \n",
    "    'svm__kernel': ['rbf', 'linear', 'poly']\n",
    "}\n",
    "\n",
    "search = GridSearchCV(pipe, param_grid, cv=5, iid=False, refit=True)\n",
    "search.fit(X_train, y_train)\n",
    "print(\"Best CV score = %0.3f:\" % search.best_score_)\n",
    "print(\"Best parameters: \", search.best_params_)\n",
    "\n",
    "# store the best params and best model for later use\n",
    "SVM_best_params = search.best_params_\n",
    "SVM_best_model = search.best_estimator_\n",
    "test_pred = SVM_best_model.predict(X_test)"
   ]
  },
  {
   "cell_type": "code",
   "execution_count": 99,
   "metadata": {},
   "outputs": [
    {
     "name": "stdout",
     "output_type": "stream",
     "text": [
      "SVM__Accuracy: 0.83500\n",
      "SVM_precision: 0.86813\n",
      "SVM_recall: 0.79000\n",
      "SVM__f1_score: 0.82723\n"
     ]
    },
    {
     "name": "stderr",
     "output_type": "stream",
     "text": [
      "C:\\Users\\Jithu\\Anaconda3\\lib\\site-packages\\ipykernel_launcher.py:23: DeprecationWarning: scipy.interp is deprecated and will be removed in SciPy 2.0.0, use numpy.interp instead\n"
     ]
    }
   ],
   "source": [
    "SVM_accuracy, SVM_precision, SVM_recall, SVM_f1_score, SVM_tpr,SVM_auc = evaluate_model(X_test, y_test, SVM_best_model)\n",
    "print(\"SVM__Accuracy: {:.5f}\".format(SVM_accuracy))\n",
    "print(\"SVM_precision: {:.5f}\".format(SVM_precision))\n",
    "print(\"SVM_recall: {:.5f}\".format(SVM_recall))\n",
    "print(\"SVM__f1_score: {:.5f}\".format(SVM_f1_score))"
   ]
  },
  {
   "cell_type": "markdown",
   "metadata": {},
   "source": [
    "# Bar Plot"
   ]
  },
  {
   "cell_type": "code",
   "execution_count": 109,
   "metadata": {},
   "outputs": [
    {
     "data": {
      "image/png": "[encoded data removed]",
      "text/plain": [
       "<Figure size 432x288 with 1 Axes>"
      ]
     },
     "metadata": {
      "needs_background": "light"
     },
     "output_type": "display_data"
    }
   ],
   "source": [
    "RF_metrics = np.array([RF_accuracy, RF_precision, RF_recall, RF_f1_score])\n",
    "XGB_metrics = np.array([XGB_accuracy, XGB_precision, XGB_recall, XGB_f1_score])\n",
    "LR_metrics = np.array([LR_accuracy, LR_precision, LR_recall, LR_f1_score])\n",
    "SVM_metrics = np.array([SVM_accuracy, SVM_precision, SVM_recall, SVM_f1_score])\n",
    "index = ['accuracy', 'precision', 'recall', 'F1-score']\n",
    "df_metrics = pd.DataFrame({'Random Forest': RF_metrics, 'XGBoost': XGB_metrics, 'Logistic Regression': LR_metrics, 'SVM': SVM_metrics }, index=index)\n",
    "df_metrics.plot.bar(rot=0)\n",
    "plt.legend(loc=\"lower right\")\n",
    "plt.show()"
   ]
  },
  {
   "cell_type": "markdown",
   "metadata": {},
   "source": [
    "# ROC Curve"
   ]
  },
  {
   "cell_type": "code",
   "execution_count": 111,
   "metadata": {},
   "outputs": [
    {
     "data": {
      "image/png": "[encoded data removed]",
      "text/plain": [
       "<Figure size 432x288 with 1 Axes>"
      ]
     },
     "metadata": {
      "needs_background": "light"
     },
     "output_type": "display_data"
    }
   ],
   "source": [
    "plt.plot([0, 1], [0, 1], linestyle='--', lw=2, color='r', label='Chance', alpha=0.8)\n",
    "plt.plot(mean_fpr, RF_tpr[0,:], lw=2, color='blue', label='Random Forest (AUC = %0.2f)' % (RF_auc), alpha=0.8)\n",
    "plt.plot(mean_fpr, XGB_tpr[0,:], lw=2, color='orange', label='XGBoost (AUC = %0.2f)' % (XGB_auc), alpha=0.8)\n",
    "plt.plot(mean_fpr, LR_tpr[0,:], lw=2, color='green', label='Logistic Regression (AUC = %0.2f)' % (LR_auc), alpha=0.8)\n",
    "plt.plot(mean_fpr, SVM_tpr[0,:], lw=2, color='red', label='SVM (AUC = %0.2f)' % (SVM_auc), alpha=0.8)\n",
    "plt.xlabel('False Positive Rate')\n",
    "plt.ylabel('True Positive Rate')\n",
    "plt.title('ROC curves for multiple classifiers')\n",
    "plt.legend(loc=\"lower right\")\n",
    "plt.show()"
   ]
  },
  {
   "cell_type": "markdown",
   "metadata": {},
   "source": [
    "From the above observations SVM performs as the best classification model"
   ]
  },
  {
   "cell_type": "code",
   "execution_count": null,
   "metadata": {},
   "outputs": [],
   "source": []
  }
 ],
 "metadata": {
  "kernelspec": {
   "display_name": "Python 3",
   "language": "python",
   "name": "python3"
  },
  "language_info": {
   "codemirror_mode": {
    "name": "ipython",
    "version": 3
   },
   "file_extension": ".py",
   "mimetype": "text/x-python",
   "name": "python",
   "nbconvert_exporter": "python",
   "pygments_lexer": "ipython3",
   "version": "3.7.3"
  }
 },
 "nbformat": 4,
 "nbformat_minor": 2
}
