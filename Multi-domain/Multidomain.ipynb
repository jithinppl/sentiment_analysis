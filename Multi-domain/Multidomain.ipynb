{
 "cells": [
  {
   "cell_type": "code",
   "execution_count": 3,
   "metadata": {},
   "outputs": [],
   "source": [
    "#Importing Libraries\n",
    "from bs4 import BeautifulSoup\n",
    "from nltk.corpus import stopwords\n",
    "from collections import Counter\n",
    "from nltk.stem import PorterStemmer\n",
    "import pandas as pd\n",
    "from nltk.tokenize import word_tokenize\n",
    "import re\n",
    "import string\n",
    "import numpy as np\n",
    "from sklearn.utils import shuffle\n",
    "from sklearn.feature_extraction.text import CountVectorizer, TfidfVectorizer\n",
    "from sklearn.model_selection import train_test_split\n",
    "from sklearn.metrics import accuracy_score\n",
    "from sklearn import model_selection, naive_bayes, svm\n",
    "from sklearn.linear_model import LogisticRegression\n",
    "from sklearn.ensemble import RandomForestClassifier\n",
    "from sklearn.pipeline import Pipeline\n",
    "from sklearn.model_selection import GridSearchCV\n",
    "from sklearn.svm import LinearSVC\n",
    "from sklearn.decomposition import PCA\n",
    "from sklearn.feature_selection import RFE\n",
    "from sklearn.feature_selection import SelectKBest\n",
    "from sklearn.feature_selection import f_classif\n",
    "from sklearn.metrics import roc_curve, auc, accuracy_score, precision_recall_fscore_support\n",
    "from sklearn.metrics import f1_score, precision_score, recall_score, classification_report, confusion_matrix\n",
    "from scipy import interp\n",
    "import pickle\n",
    "from xgboost import XGBClassifier\n",
    "import matplotlib.pyplot as plt\n",
    "%matplotlib inline"
   ]
  },
  {
   "cell_type": "code",
   "execution_count": 4,
   "metadata": {},
   "outputs": [],
   "source": [
    "#Loading datas from four different domains\n",
    "elec_books_pos_list=[]\n",
    "elec_books_neg_list=[]\n",
    "sports_toys_pos_list=[]\n",
    "sports_toys_neg_list=[]\n",
    "with open(\"elec_books_positive.txt\") as fp:\n",
    "    soup=BeautifulSoup(fp)\n",
    "    words=soup.find_all(\"review_text\")\n",
    "    for i in range(0,len(words)-1):\n",
    "        elec_books_pos_list.append(words[i].string.strip('\\n'))\n",
    "    #print(list)\n",
    "with open(\"elec_books_negative.txt\") as fp:\n",
    "    soup=BeautifulSoup(fp)\n",
    "    words=soup.find_all(\"review_text\")\n",
    "    for i in range(0,len(words)-1):\n",
    "        elec_books_neg_list.append(words[i].string.strip('\\n'))\n",
    "with open(\"sports_toys_positive.txt\") as fp:\n",
    "    soup=BeautifulSoup(fp)\n",
    "    words=soup.find_all(\"review_text\")\n",
    "    for i in range(0,len(words)-1):\n",
    "        sports_toys_pos_list.append(words[i].string.strip('\\n'))\n",
    "    #print(list)\n",
    "with open(\"sports_toys_negative.txt\") as fp:\n",
    "    soup=BeautifulSoup(fp)\n",
    "    words=soup.find_all(\"review_text\")\n",
    "    for i in range(0,len(words)-1):\n",
    "        sports_toys_neg_list.append(words[i].string.strip('\\n'))"
   ]
  },
  {
   "cell_type": "markdown",
   "metadata": {},
   "source": [
    "### Data Cleaning "
   ]
  },
  {
   "cell_type": "code",
   "execution_count": 5,
   "metadata": {},
   "outputs": [],
   "source": [
    "\n",
    "stop_words = stopwords.words('english')\n",
    "porter=PorterStemmer()\n",
    "\n",
    "df = pd.DataFrame()\n",
    "\n",
    "def clean_data(data):\n",
    "    new=[]\n",
    "    newlist=[]\n",
    "    for i in data:    \n",
    "        i = re.sub(r\"\\'m\", \" am\", i)\n",
    "        i = re.sub(r\"\\'ve\", \" have\", i)\n",
    "        i = re.sub(r\"n\\'t\", \" not\", i)\n",
    "        i = re.sub(r\"\\'re\", \" are\", i)\n",
    "        i = re.sub(r\"\\'s\", \" is\", i)\n",
    "        i = re.sub(r\"\\'d\", \" would\", i)\n",
    "        i = re.sub(r\"\\'ll\", \" will\", i)\n",
    "        i = re.sub(r\"(\\n+)\", \" \", i)\n",
    "        i=i.lower()\n",
    "        table = str.maketrans(dict.fromkeys(string.punctuation))\n",
    "        new.append(i.translate(table))\n",
    "    for text in new:\n",
    "        sentence=[]\n",
    "        word_list=text.split(' ')\n",
    "        for word in word_list:\n",
    "            if word not in stop_words and word.isalpha():            \n",
    "                sentence.append(porter.stem(word))\n",
    "        newlist.append(' '.join(sentence))\n",
    "    return newlist\n",
    "\n",
    "cleanelec_books_pos_list=clean_data(elec_books_pos_list)\n",
    "cleanelec_books_neg_list=clean_data(elec_books_neg_list)\n",
    "elec_books_list=cleanelec_books_pos_list+cleanelec_books_neg_list\n",
    "\n",
    "\n",
    "cleansports_toys_pos_list=clean_data(sports_toys_pos_list)\n",
    "cleansports_toys_neg_list=clean_data(sports_toys_neg_list)\n",
    "sports_toys_list=cleansports_toys_pos_list+cleansports_toys_neg_list\n",
    "\n"
   ]
  },
  {
   "cell_type": "code",
   "execution_count": 6,
   "metadata": {},
   "outputs": [],
   "source": [
    "def pos_listing(cleanpos_list):\n",
    "    df_pos = pd.DataFrame(cleanpos_list)\n",
    "    df_pos['sentiment'] = np.ones(len(cleanpos_list))\n",
    "    df_pos.columns = ['reviews', 'sentiment']\n",
    "    return df_pos\n",
    "\n",
    "def neg_listing(cleanneg_list):\n",
    "    df_neg = pd.DataFrame(cleanneg_list)\n",
    "    df_neg['sentiment'] = np.zeros(len(cleanneg_list))\n",
    "    df_neg.columns = ['reviews', 'sentiment']\n",
    "    return df_neg\n",
    "\n",
    "dfelec_books__pos=pos_listing(cleanelec_books_pos_list)\n",
    "dfelec_books__neg=neg_listing(cleanelec_books_neg_list)\n",
    "\n",
    "\n",
    "dfsports_toys_pos=pos_listing(cleansports_toys_pos_list)\n",
    "dfsports_toys_neg=neg_listing(cleansports_toys_neg_list)"
   ]
  },
  {
   "cell_type": "code",
   "execution_count": 7,
   "metadata": {},
   "outputs": [
    {
     "data": {
      "text/plain": [
       "(7996, 2)"
      ]
     },
     "execution_count": 7,
     "metadata": {},
     "output_type": "execute_result"
    }
   ],
   "source": [
    "\n",
    "df_elec_books = dfelec_books__pos.append(dfelec_books__neg,ignore_index=True)\n",
    "df_sports_toys = dfsports_toys_pos.append(dfsports_toys_neg,ignore_index=True)\n",
    "\n",
    "finaldf=df_elec_books.append(df_sports_toys,ignore_index=True)\n",
    "finaldf.shape"
   ]
  },
  {
   "cell_type": "code",
   "execution_count": 8,
   "metadata": {},
   "outputs": [
    {
     "data": {
      "text/html": [
       "<div>\n",
       "<style scoped>\n",
       "    .dataframe tbody tr th:only-of-type {\n",
       "        vertical-align: middle;\n",
       "    }\n",
       "\n",
       "    .dataframe tbody tr th {\n",
       "        vertical-align: top;\n",
       "    }\n",
       "\n",
       "    .dataframe thead th {\n",
       "        text-align: right;\n",
       "    }\n",
       "</style>\n",
       "<table border=\"1\" class=\"dataframe\">\n",
       "  <thead>\n",
       "    <tr style=\"text-align: right;\">\n",
       "      <th></th>\n",
       "      <th>reviews</th>\n",
       "      <th>sentiment</th>\n",
       "    </tr>\n",
       "  </thead>\n",
       "  <tbody>\n",
       "    <tr>\n",
       "      <th>7991</th>\n",
       "      <td>find replac part toy daughter work realli hard...</td>\n",
       "      <td>0.0</td>\n",
       "    </tr>\n",
       "    <tr>\n",
       "      <th>7992</th>\n",
       "      <td>real let daughter love hors sever breyer hors ...</td>\n",
       "      <td>0.0</td>\n",
       "    </tr>\n",
       "    <tr>\n",
       "      <th>7993</th>\n",
       "      <td>purchas yr old son love draw scribbl excit see...</td>\n",
       "      <td>0.0</td>\n",
       "    </tr>\n",
       "    <tr>\n",
       "      <th>7994</th>\n",
       "      <td>consid toler patient parent come toy nois howe...</td>\n",
       "      <td>0.0</td>\n",
       "    </tr>\n",
       "    <tr>\n",
       "      <th>7995</th>\n",
       "      <td>expens gift purchas christma one thing daughte...</td>\n",
       "      <td>0.0</td>\n",
       "    </tr>\n",
       "  </tbody>\n",
       "</table>\n",
       "</div>"
      ],
      "text/plain": [
       "                                                reviews  sentiment\n",
       "7991  find replac part toy daughter work realli hard...        0.0\n",
       "7992  real let daughter love hors sever breyer hors ...        0.0\n",
       "7993  purchas yr old son love draw scribbl excit see...        0.0\n",
       "7994  consid toler patient parent come toy nois howe...        0.0\n",
       "7995  expens gift purchas christma one thing daughte...        0.0"
      ]
     },
     "execution_count": 8,
     "metadata": {},
     "output_type": "execute_result"
    }
   ],
   "source": [
    "finaldf.tail()"
   ]
  },
  {
   "cell_type": "markdown",
   "metadata": {},
   "source": [
    "### Tokenization "
   ]
  },
  {
   "cell_type": "code",
   "execution_count": 9,
   "metadata": {},
   "outputs": [],
   "source": [
    "\n",
    "finallist=[]\n",
    "count=0\n",
    "for text in finaldf.values:\n",
    "    newlist=[]\n",
    "    word_list=text[0].split(' ')\n",
    "    for word in word_list:       \n",
    "        newlist.append(word)\n",
    "    finallist.append(newlist)"
   ]
  },
  {
   "cell_type": "code",
   "execution_count": 10,
   "metadata": {},
   "outputs": [],
   "source": [
    "finaldf = shuffle(finaldf)"
   ]
  },
  {
   "cell_type": "markdown",
   "metadata": {},
   "source": [
    "### Train and Test data Splitting "
   ]
  },
  {
   "cell_type": "code",
   "execution_count": 11,
   "metadata": {},
   "outputs": [
    {
     "data": {
      "text/plain": [
       "((6396,), (6396,), (1600,), (1600,))"
      ]
     },
     "execution_count": 11,
     "metadata": {},
     "output_type": "execute_result"
    }
   ],
   "source": [
    "from sklearn.model_selection import train_test_split\n",
    "X = finaldf['reviews']\n",
    "y = finaldf['sentiment']\n",
    "\n",
    "X_train, X_test, y_train, y_test = train_test_split(X, y, test_size=0.2,stratify=y,shuffle=True,random_state = 1)\n",
    "X_train.shape, y_train.shape, X_test.shape, y_test.shape"
   ]
  },
  {
   "cell_type": "code",
   "execution_count": 12,
   "metadata": {},
   "outputs": [
    {
     "name": "stderr",
     "output_type": "stream",
     "text": [
      "Using TensorFlow backend.\n"
     ]
    }
   ],
   "source": [
    "from keras.preprocessing.text import Tokenizer\n",
    "\n",
    "tokenizer = Tokenizer()\n",
    "tokenizer.fit_on_texts(X_train)\n",
    "\n",
    "X_train = tokenizer.texts_to_sequences(X_train)\n",
    "X_test = tokenizer.texts_to_sequences(X_test)"
   ]
  },
  {
   "cell_type": "code",
   "execution_count": 13,
   "metadata": {},
   "outputs": [
    {
     "data": {
      "text/plain": [
       "22072"
      ]
     },
     "execution_count": 13,
     "metadata": {},
     "output_type": "execute_result"
    }
   ],
   "source": [
    "from keras.preprocessing.sequence import pad_sequences\n",
    "from keras.layers import Dense, Input, LSTM, Embedding, Dropout, Activation\n",
    "\n",
    "vocab_size = len(tokenizer.word_index) + 1\n",
    "\n",
    "max_length = 100\n",
    "\n",
    "X_train = pad_sequences(X_train, padding='post', maxlen=max_length)\n",
    "X_test = pad_sequences(X_test, padding='post', maxlen=max_length)\n",
    "vocab_size"
   ]
  },
  {
   "cell_type": "markdown",
   "metadata": {},
   "source": [
    "### Vectorization "
   ]
  },
  {
   "cell_type": "code",
   "execution_count": 14,
   "metadata": {},
   "outputs": [
    {
     "name": "stdout",
     "output_type": "stream",
     "text": [
      "Total vocabulary size: 6621\n"
     ]
    }
   ],
   "source": [
    "from gensim.models import Word2Vec\n",
    "wordlist=[]\n",
    "model = Word2Vec(finallist,min_count=5,\n",
    "                 window=2,\n",
    "                 size=300,\n",
    "                 sample=6e-5, \n",
    "                 alpha=0.03, \n",
    "                 min_alpha=0.0007, \n",
    "                 negative=2,\n",
    "                 workers=8\n",
    "        )\n",
    "words=list(model.wv.vocab)\n",
    "print(\"Total vocabulary size:\",len(words))\n",
    "#print(words)"
   ]
  },
  {
   "cell_type": "code",
   "execution_count": 15,
   "metadata": {},
   "outputs": [],
   "source": [
    "filename=\"word2vec_embeddings.txt\"\n",
    "model.wv.save_word2vec_format(filename, binary=False)"
   ]
  },
  {
   "cell_type": "code",
   "execution_count": 16,
   "metadata": {},
   "outputs": [],
   "source": [
    "import os\n",
    "embeddings_index={}\n",
    "f=open(os.path.join('','word2vec_embeddings.txt'),encoding='utf-8')\n",
    "for line in f:\n",
    "    values=line.split()\n",
    "    word=values[0]\n",
    "    coefs=np.asarray(values[1:])\n",
    "    embeddings_index[word]=coefs\n",
    "f.close()"
   ]
  },
  {
   "cell_type": "code",
   "execution_count": 17,
   "metadata": {},
   "outputs": [
    {
     "name": "stdout",
     "output_type": "stream",
     "text": [
      "22072\n"
     ]
    }
   ],
   "source": [
    "embedding_matrix=np.zeros((vocab_size,300))\n",
    "for word,i in tokenizer.word_index.items():\n",
    "    if i>vocab_size:\n",
    "        continue\n",
    "    embedding_vector=embeddings_index.get(word)\n",
    "    if embedding_vector is not None:\n",
    "        embedding_matrix[i]=embedding_vector\n",
    "print(vocab_size)"
   ]
  },
  {
   "cell_type": "markdown",
   "metadata": {},
   "source": [
    "# LSTM model"
   ]
  },
  {
   "cell_type": "code",
   "execution_count": 18,
   "metadata": {},
   "outputs": [],
   "source": [
    "from keras.models import Sequential\n",
    "from keras.layers import Embedding, LSTM, Dense, Dropout, Masking, Activation, Input\n",
    "from keras.initializers import Constant\n",
    "from keras.optimizers import Adam\n",
    "from keras.layers.merge import concatenate\n",
    "from keras.layers.normalization import BatchNormalization\n",
    "from keras.models import Model\n",
    "\n",
    "LSTM_model = Sequential()\n",
    "embedding_layer = Embedding(vocab_size, 300, weights=[embedding_matrix], trainable=True,mask_zero=True)\n",
    "\n",
    "LSTM_model.add(embedding_layer)\n",
    "\n",
    "LSTM_model.add(LSTM(128))\n",
    "\n",
    "LSTM_model.add(Dense(1, activation='sigmoid'))\n",
    "\n",
    "LSTM_model.compile(optimizer='adam', loss='binary_crossentropy', metrics=['accuracy'])"
   ]
  },
  {
   "cell_type": "code",
   "execution_count": 19,
   "metadata": {},
   "outputs": [
    {
     "name": "stdout",
     "output_type": "stream",
     "text": [
      "Model: \"sequential_1\"\n",
      "_________________________________________________________________\n",
      "Layer (type)                 Output Shape              Param #   \n",
      "=================================================================\n",
      "embedding_1 (Embedding)      (None, None, 300)         6621600   \n",
      "_________________________________________________________________\n",
      "lstm_1 (LSTM)                (None, 128)               219648    \n",
      "_________________________________________________________________\n",
      "dense_1 (Dense)              (None, 1)                 129       \n",
      "=================================================================\n",
      "Total params: 6,841,377\n",
      "Trainable params: 6,841,377\n",
      "Non-trainable params: 0\n",
      "_________________________________________________________________\n",
      "None\n"
     ]
    }
   ],
   "source": [
    "print(LSTM_model.summary())"
   ]
  },
  {
   "cell_type": "code",
   "execution_count": 20,
   "metadata": {},
   "outputs": [
    {
     "name": "stderr",
     "output_type": "stream",
     "text": [
      "C:\\Users\\Jithu\\AppData\\Roaming\\Python\\Python37\\site-packages\\tensorflow\\python\\framework\\indexed_slices.py:434: UserWarning: Converting sparse IndexedSlices to a dense Tensor of unknown shape. This may consume a large amount of memory.\n",
      "  \"Converting sparse IndexedSlices to a dense Tensor of unknown shape. \"\n"
     ]
    },
    {
     "name": "stdout",
     "output_type": "stream",
     "text": [
      "Train on 5116 samples, validate on 1280 samples\n",
      "Epoch 1/5\n",
      "5116/5116 [==============================] - 26s 5ms/step - loss: 0.6463 - accuracy: 0.6100 - val_loss: 0.4797 - val_accuracy: 0.7797\n",
      "Epoch 2/5\n",
      "5116/5116 [==============================] - 24s 5ms/step - loss: 0.3299 - accuracy: 0.8694 - val_loss: 0.3865 - val_accuracy: 0.8289\n",
      "Epoch 3/5\n",
      "5116/5116 [==============================] - 23s 5ms/step - loss: 0.1590 - accuracy: 0.9437 - val_loss: 0.4376 - val_accuracy: 0.8188\n",
      "Epoch 4/5\n",
      "5116/5116 [==============================] - 23s 5ms/step - loss: 0.0761 - accuracy: 0.9783 - val_loss: 0.5295 - val_accuracy: 0.8000\n",
      "Epoch 5/5\n",
      "5116/5116 [==============================] - 23s 4ms/step - loss: 0.0375 - accuracy: 0.9908 - val_loss: 0.6822 - val_accuracy: 0.8094\n",
      "1600/1600 [==============================] - 3s 2ms/step\n"
     ]
    }
   ],
   "source": [
    "history = LSTM_model.fit(X_train, y_train, batch_size=128, epochs=5, verbose=1, validation_split=0.2)\n",
    "\n",
    "score = LSTM_model.evaluate(X_test, y_test, verbose=1)"
   ]
  },
  {
   "cell_type": "code",
   "execution_count": 21,
   "metadata": {},
   "outputs": [],
   "source": [
    "mean_fpr = np.linspace(start=0, stop=1, num=100)\n",
    "\n",
    "def evaluate_model(X_test, y_test, model):\n",
    "    # predict probabilities for test set\n",
    "    _probs = model.predict(X_test, verbose=0)\n",
    "    # predict crisp classes for test set\n",
    "    _classes = model.predict_classes(X_test, verbose=0)\n",
    "    # reduce to 1d array\n",
    "    _probs = _probs[:, 0]\n",
    "    _classes = _classes[:, 0]\n",
    "\n",
    "    # accuracy: (tp + tn) / (p + n)\n",
    "    accuracy = accuracy_score(y_test, _classes)\n",
    "    # precision tp / (tp + fp)\n",
    "    precision = precision_score(y_test, _classes)\n",
    "    # recall: tp / (tp + fn)\n",
    "    recall = recall_score(y_test, _classes)\n",
    "    # f1: 2 tp / (2 tp + fp + fn)\n",
    "    f1 = f1_score(y_test, _classes)\n",
    "    \n",
    "    fpr, tpr, _ = roc_curve(y_test, _probs)\n",
    "    \n",
    "    tpr_transformed = np.array([interp(mean_fpr, fpr, tpr)])\n",
    "    \n",
    "    # compute the area under the curve\n",
    "    _auc = auc(fpr, tpr)\n",
    "    \n",
    "    return accuracy, precision, recall, f1, tpr_transformed,_auc"
   ]
  },
  {
   "cell_type": "code",
   "execution_count": 22,
   "metadata": {},
   "outputs": [
    {
     "name": "stdout",
     "output_type": "stream",
     "text": [
      "LSTM_accuracy: 0.77563\n",
      "LSTM_precision: 0.77189\n",
      "LSTM_recall: 0.78250\n",
      "LSTM_f1_score: 0.77716\n"
     ]
    },
    {
     "name": "stderr",
     "output_type": "stream",
     "text": [
      "C:\\Users\\Jithu\\Anaconda3\\lib\\site-packages\\ipykernel_launcher.py:23: DeprecationWarning: scipy.interp is deprecated and will be removed in SciPy 2.0.0, use numpy.interp instead\n"
     ]
    }
   ],
   "source": [
    "LSTM_accuracy, LSTM_precision, LSTM_recall, LSTM_f1_score, LSTM_tpr,LSTM_auc = evaluate_model(X_test, y_test, LSTM_model)\n",
    "print(\"LSTM_accuracy: {:.5f}\".format(LSTM_accuracy))\n",
    "print(\"LSTM_precision: {:.5f}\".format(LSTM_precision))\n",
    "print(\"LSTM_recall: {:.5f}\".format(LSTM_recall))\n",
    "print(\"LSTM_f1_score: {:.5f}\".format(LSTM_f1_score))"
   ]
  },
  {
   "cell_type": "markdown",
   "metadata": {},
   "source": [
    "# CNN "
   ]
  },
  {
   "cell_type": "code",
   "execution_count": 27,
   "metadata": {},
   "outputs": [],
   "source": [
    "from keras.layers.convolutional import Conv1D\n",
    "from keras.layers.pooling import GlobalMaxPooling1D\n",
    "CNN_model = Sequential()\n",
    "\n",
    "embedding_layer = Embedding(vocab_size, 300, weights=[embedding_matrix],  trainable=True)\n",
    "CNN_model.add(embedding_layer)\n",
    "\n",
    "CNN_model.add(Conv1D(128, 5, activation='relu'))\n",
    "CNN_model.add(GlobalMaxPooling1D())\n",
    "CNN_model.add(Dense(1, activation='relu'))\n",
    "CNN_model.compile(optimizer='adam', loss='binary_crossentropy', metrics=['acc'])"
   ]
  },
  {
   "cell_type": "code",
   "execution_count": 28,
   "metadata": {},
   "outputs": [
    {
     "name": "stdout",
     "output_type": "stream",
     "text": [
      "Model: \"sequential_3\"\n",
      "_________________________________________________________________\n",
      "Layer (type)                 Output Shape              Param #   \n",
      "=================================================================\n",
      "embedding_3 (Embedding)      (None, None, 300)         6621600   \n",
      "_________________________________________________________________\n",
      "conv1d_2 (Conv1D)            (None, None, 128)         192128    \n",
      "_________________________________________________________________\n",
      "global_max_pooling1d_2 (Glob (None, 128)               0         \n",
      "_________________________________________________________________\n",
      "dense_3 (Dense)              (None, 1)                 129       \n",
      "=================================================================\n",
      "Total params: 6,813,857\n",
      "Trainable params: 6,813,857\n",
      "Non-trainable params: 0\n",
      "_________________________________________________________________\n",
      "None\n"
     ]
    }
   ],
   "source": [
    "print(CNN_model.summary())"
   ]
  },
  {
   "cell_type": "code",
   "execution_count": 29,
   "metadata": {},
   "outputs": [
    {
     "name": "stdout",
     "output_type": "stream",
     "text": [
      "Train on 5116 samples, validate on 1280 samples\n",
      "Epoch 1/5\n",
      "5116/5116 [==============================] - 10s 2ms/step - loss: 1.1840 - acc: 0.5055 - val_loss: 0.6871 - val_acc: 0.5469\n",
      "Epoch 2/5\n",
      "5116/5116 [==============================] - 10s 2ms/step - loss: 0.5559 - acc: 0.8341 - val_loss: 0.6460 - val_acc: 0.6297\n",
      "Epoch 3/5\n",
      "5116/5116 [==============================] - 10s 2ms/step - loss: 0.3550 - acc: 0.9601 - val_loss: 0.5612 - val_acc: 0.7375\n",
      "Epoch 4/5\n",
      "5116/5116 [==============================] - 10s 2ms/step - loss: 0.1229 - acc: 0.9799 - val_loss: 0.5790 - val_acc: 0.7406\n",
      "Epoch 5/5\n",
      "5116/5116 [==============================] - 10s 2ms/step - loss: 0.0327 - acc: 0.9713 - val_loss: 0.6778 - val_acc: 0.7359\n",
      "1600/1600 [==============================] - 1s 423us/step\n"
     ]
    }
   ],
   "source": [
    "history = CNN_model.fit(X_train, y_train, batch_size=128, epochs=5, verbose=1, validation_split=0.2)\n",
    "\n",
    "score = CNN_model.evaluate(X_test, y_test, verbose=1)"
   ]
  },
  {
   "cell_type": "code",
   "execution_count": 30,
   "metadata": {},
   "outputs": [
    {
     "name": "stdout",
     "output_type": "stream",
     "text": [
      "CNN_accuracy: 0.74750\n",
      "CNN_precision: 0.77500\n",
      "CNN_recall: 0.69750\n",
      "CNN_f1_score: 0.73421\n"
     ]
    },
    {
     "name": "stderr",
     "output_type": "stream",
     "text": [
      "C:\\Users\\Jithu\\Anaconda3\\lib\\site-packages\\ipykernel_launcher.py:23: DeprecationWarning: scipy.interp is deprecated and will be removed in SciPy 2.0.0, use numpy.interp instead\n"
     ]
    }
   ],
   "source": [
    "CNN_accuracy, CNN_precision, CNN_recall, CNN_f1_score, CNN_tpr,CNN_auc = evaluate_model(X_test, y_test, CNN_model)\n",
    "print(\"CNN_accuracy: {:.5f}\".format(CNN_accuracy))\n",
    "print(\"CNN_precision: {:.5f}\".format(CNN_precision))\n",
    "print(\"CNN_recall: {:.5f}\".format(CNN_recall))\n",
    "print(\"CNN_f1_score: {:.5f}\".format(CNN_f1_score))"
   ]
  },
  {
   "cell_type": "markdown",
   "metadata": {},
   "source": [
    "# Bar Plot"
   ]
  },
  {
   "cell_type": "code",
   "execution_count": 31,
   "metadata": {},
   "outputs": [
    {
     "data": {
      "image/png": "[encoded data removed]",
      "text/plain": [
       "<Figure size 432x288 with 1 Axes>"
      ]
     },
     "metadata": {
      "needs_background": "light"
     },
     "output_type": "display_data"
    }
   ],
   "source": [
    "LSTM_metrics = np.array([LSTM_accuracy, LSTM_precision, LSTM_recall, LSTM_f1_score])\n",
    "CNN_metrics = np.array([CNN_accuracy, CNN_precision, CNN_recall, CNN_f1_score])\n",
    "index = ['accuracy', 'precision', 'recall', 'F1-score']\n",
    "df_metrics = pd.DataFrame({'LSTM': LSTM_metrics,'CNN': CNN_metrics }, index=index)\n",
    "df_metrics.plot.bar(rot=0)\n",
    "plt.legend(loc=\"lower right\")\n",
    "plt.show()"
   ]
  },
  {
   "cell_type": "markdown",
   "metadata": {},
   "source": [
    "# ROC Curve"
   ]
  },
  {
   "cell_type": "code",
   "execution_count": 32,
   "metadata": {},
   "outputs": [
    {
     "data": {
      "image/png": "[encoded data removed]",
      "text/plain": [
       "<Figure size 432x288 with 1 Axes>"
      ]
     },
     "metadata": {
      "needs_background": "light"
     },
     "output_type": "display_data"
    }
   ],
   "source": [
    "plt.plot([0, 1], [0, 1], linestyle='--', lw=2, color='r', label='Chance', alpha=0.8)\n",
    "plt.plot(mean_fpr, LSTM_tpr[0,:], lw=2, color='blue', label='LSTM (AUC = %0.2f)' % (LSTM_auc), alpha=0.8)\n",
    "plt.plot(mean_fpr, CNN_tpr[0,:], lw=2, color='orange', label='CNN (AUC = %0.2f)' % (CNN_auc), alpha=0.8)\n",
    "plt.xlabel('False Positive Rate')\n",
    "plt.ylabel('True Positive Rate')\n",
    "plt.title('ROC curves for multiple classifiers')\n",
    "plt.legend(loc=\"lower right\")\n",
    "plt.show()"
   ]
  },
  {
   "cell_type": "markdown",
   "metadata": {},
   "source": [
    "In this experiment also, LSTM provides the best performance. But comparing to the performance of single domain, the performance is low in this case even after the dataset size got increased."
   ]
  },
  {
   "cell_type": "code",
   "execution_count": null,
   "metadata": {},
   "outputs": [],
   "source": []
  }
 ],
 "metadata": {
  "kernelspec": {
   "display_name": "Python 3",
   "language": "python",
   "name": "python3"
  },
  "language_info": {
   "codemirror_mode": {
    "name": "ipython",
    "version": 3
   },
   "file_extension": ".py",
   "mimetype": "text/x-python",
   "name": "python",
   "nbconvert_exporter": "python",
   "pygments_lexer": "ipython3",
   "version": "3.7.3"
  }
 },
 "nbformat": 4,
 "nbformat_minor": 2
}
