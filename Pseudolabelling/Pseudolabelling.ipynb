{
 "cells": [
  {
   "cell_type": "code",
   "execution_count": 55,
   "metadata": {},
   "outputs": [],
   "source": [
    "from bs4 import BeautifulSoup\n",
    "from nltk.corpus import stopwords\n",
    "from collections import Counter\n",
    "from nltk.stem import PorterStemmer\n",
    "import pandas as pd\n",
    "from nltk.tokenize import word_tokenize\n",
    "import re\n",
    "import string\n",
    "import numpy as np\n",
    "from sklearn.utils import shuffle\n",
    "from sklearn.feature_extraction.text import CountVectorizer, TfidfVectorizer\n",
    "from sklearn.model_selection import train_test_split\n",
    "from sklearn.metrics import accuracy_score\n",
    "from sklearn import model_selection, naive_bayes, svm\n",
    "from sklearn.linear_model import LogisticRegression\n",
    "from sklearn.ensemble import RandomForestClassifier\n",
    "from sklearn.pipeline import Pipeline\n",
    "from sklearn.model_selection import GridSearchCV\n",
    "from sklearn.svm import LinearSVC\n",
    "from sklearn.decomposition import PCA\n",
    "from sklearn.feature_selection import RFE\n",
    "from sklearn.feature_selection import SelectKBest\n",
    "from sklearn.feature_selection import f_classif\n",
    "from sklearn.metrics import roc_curve, auc, accuracy_score, precision_recall_fscore_support\n",
    "from sklearn.metrics import f1_score, precision_score, recall_score, classification_report, confusion_matrix\n",
    "from scipy import interp\n",
    "import pickle\n",
    "from xgboost import XGBClassifier\n",
    "import matplotlib.pyplot as plt\n",
    "%matplotlib inline"
   ]
  },
  {
   "cell_type": "code",
   "execution_count": null,
   "metadata": {},
   "outputs": [],
   "source": [
    "pos_list=[]\n",
    "neg_list=[]\n",
    "with open(\"positive.txt\") as fp:\n",
    "    soup=BeautifulSoup(fp)\n",
    "    words=soup.find_all(\"review_text\")\n",
    "    for i in range(0,len(words)-1):\n",
    "        pos_list.append(words[i].string.strip('\\n'))\n",
    "    #print(list)\n",
    "with open(\"negative.txt\") as fp:\n",
    "    soup=BeautifulSoup(fp)\n",
    "    words=soup.find_all(\"review_text\")\n",
    "    for i in range(0,len(words)-1):\n",
    "        neg_list.append(words[i].string.strip('\\n'))"
   ]
  },
  {
   "cell_type": "code",
   "execution_count": 3,
   "metadata": {},
   "outputs": [],
   "source": [
    "amazondata=pd.read_csv(\"Amazon Electronics.csv\")"
   ]
  },
  {
   "cell_type": "code",
   "execution_count": 4,
   "metadata": {},
   "outputs": [],
   "source": [
    "amazonlist=[]\n",
    "for val in amazondata['reviews']:\n",
    "    amazonlist.append(val)\n"
   ]
  },
  {
   "cell_type": "code",
   "execution_count": 5,
   "metadata": {},
   "outputs": [],
   "source": [
    "df = pd.DataFrame()\n",
    "stop_words = stopwords.words('english')\n",
    "porter=PorterStemmer()\n",
    "\n",
    "def clean_data(data):\n",
    "    new=[]\n",
    "    newlist=[]\n",
    "    for i in data:    \n",
    "        i = re.sub(r\"\\'m\", \" am\", i)\n",
    "        i = re.sub(r\"\\'ve\", \" have\", i)\n",
    "        i = re.sub(r\"n\\'t\", \" not\", i)\n",
    "        i = re.sub(r\"\\'re\", \" are\", i)\n",
    "        i = re.sub(r\"\\'s\", \" is\", i)\n",
    "        i = re.sub(r\"\\'d\", \" would\", i)\n",
    "        i = re.sub(r\"\\'ll\", \" will\", i)\n",
    "        i = re.sub(r\"(\\n+)\", \" \", i)\n",
    "        i=i.lower()\n",
    "        table = str.maketrans(dict.fromkeys(string.punctuation))\n",
    "        new.append(i.translate(table))\n",
    "    for text in new:\n",
    "        sentence=[]\n",
    "        word_list=text.split(' ')\n",
    "        for word in word_list:\n",
    "            if word not in stop_words and word.isalpha() and len(word)>2:            \n",
    "                sentence.append(porter.stem(word))\n",
    "        newlist.append(' '.join(sentence))\n",
    "    return newlist\n",
    "\n",
    "cleanpos_list=clean_data(pos_list)\n",
    "cleanneg_list=clean_data(neg_list)\n",
    "cleanamazon_list=clean_data(amazonlist)\n",
    "\n"
   ]
  },
  {
   "cell_type": "code",
   "execution_count": 6,
   "metadata": {},
   "outputs": [
    {
     "data": {
      "text/plain": [
       "(4000, 2)"
      ]
     },
     "execution_count": 6,
     "metadata": {},
     "output_type": "execute_result"
    }
   ],
   "source": [
    "df_amazon = pd.DataFrame(cleanamazon_list)\n",
    "df_amazon['sentiment']=amazondata['sentiment']\n",
    "df_amazon.columns = ['reviews', 'sentiment']  \n",
    "df_amazon.shape"
   ]
  },
  {
   "cell_type": "code",
   "execution_count": 7,
   "metadata": {},
   "outputs": [
    {
     "name": "stdout",
     "output_type": "stream",
     "text": [
      "                                                reviews  sentiment\n",
      "5993                  warn wear big chanc hear one near        1.0\n",
      "5994  nice lightweight pluse tradit durabl lightweig...        1.0\n",
      "5995     seem work fine rememb take tini rubber cap end        1.0\n",
      "5996  hand easiest best made full motion mount bough...        1.0\n",
      "5997                          great price great qualiti        1.0\n",
      "(5998, 2)\n"
     ]
    }
   ],
   "source": [
    "df_pos = pd.DataFrame(cleanpos_list)\n",
    "df_pos['sentiment'] = np.ones(len(cleanpos_list))\n",
    "df_pos.columns = ['reviews', 'sentiment']\n",
    "\n",
    "df_neg = pd.DataFrame(cleanneg_list)\n",
    "df_neg['sentiment'] = np.zeros(len(cleanneg_list))\n",
    "df_neg.columns = ['reviews', 'sentiment']\n",
    "\n",
    "df = df_pos.append(df_neg,ignore_index=True)\n",
    "finaldf=df.append(df_amazon,ignore_index=True)\n",
    "print(finaldf.tail())\n",
    "print(finaldf.shape)"
   ]
  },
  {
   "cell_type": "code",
   "execution_count": 9,
   "metadata": {},
   "outputs": [],
   "source": [
    "\n",
    "finallist=[]\n",
    "count=0\n",
    "for text in finaldf.values:\n",
    "    newlist=[]\n",
    "    word_list=text[0].split(' ')\n",
    "    for word in word_list:       \n",
    "        newlist.append(word)\n",
    "    finallist.append(newlist)"
   ]
  },
  {
   "cell_type": "code",
   "execution_count": 10,
   "metadata": {},
   "outputs": [],
   "source": [
    "finaldf = shuffle(finaldf)"
   ]
  },
  {
   "cell_type": "code",
   "execution_count": 11,
   "metadata": {
    "scrolled": false
   },
   "outputs": [
    {
     "data": {
      "text/plain": [
       "((4798,), (4798,), (1200,), (1200,))"
      ]
     },
     "execution_count": 11,
     "metadata": {},
     "output_type": "execute_result"
    }
   ],
   "source": [
    "from sklearn.model_selection import train_test_split\n",
    "X = finaldf['reviews']\n",
    "y = finaldf['sentiment']\n",
    "\n",
    "X_train, X_test, y_train, y_test = train_test_split(X, y, test_size=0.2,stratify=y,shuffle=True,random_state = 1)\n",
    "X_train.shape, y_train.shape, X_test.shape, y_test.shape"
   ]
  },
  {
   "cell_type": "code",
   "execution_count": 12,
   "metadata": {},
   "outputs": [
    {
     "data": {
      "text/plain": [
       "(4798,)"
      ]
     },
     "execution_count": 12,
     "metadata": {},
     "output_type": "execute_result"
    }
   ],
   "source": [
    "X_train1=X_train.copy()\n",
    "X_train1.shape"
   ]
  },
  {
   "cell_type": "code",
   "execution_count": 13,
   "metadata": {},
   "outputs": [
    {
     "name": "stderr",
     "output_type": "stream",
     "text": [
      "Using TensorFlow backend.\n"
     ]
    }
   ],
   "source": [
    "from keras.preprocessing.text import Tokenizer\n",
    "\n",
    "tokenizer = Tokenizer()\n",
    "tokenizer.fit_on_texts(X_train)\n",
    "\n",
    "X_train = tokenizer.texts_to_sequences(X_train)\n",
    "X_test = tokenizer.texts_to_sequences(X_test)"
   ]
  },
  {
   "cell_type": "code",
   "execution_count": 14,
   "metadata": {},
   "outputs": [
    {
     "data": {
      "text/plain": [
       "9358"
      ]
     },
     "execution_count": 14,
     "metadata": {},
     "output_type": "execute_result"
    }
   ],
   "source": [
    "from keras.preprocessing.sequence import pad_sequences\n",
    "from keras.layers import Dense, Input, LSTM, Embedding, Dropout, Activation\n",
    "\n",
    "vocab_size = len(tokenizer.word_index) + 1\n",
    "\n",
    "max_length = 100\n",
    "\n",
    "X_train = pad_sequences(X_train, padding='post', maxlen=max_length)\n",
    "X_test = pad_sequences(X_test, padding='post', maxlen=max_length)\n",
    "vocab_size"
   ]
  },
  {
   "cell_type": "code",
   "execution_count": 15,
   "metadata": {},
   "outputs": [
    {
     "name": "stdout",
     "output_type": "stream",
     "text": [
      "Total vocabulary size: 2880\n"
     ]
    }
   ],
   "source": [
    "from gensim.models import Word2Vec\n",
    "wordlist=[]\n",
    "\n",
    "model = Word2Vec(finallist,min_count=5,\n",
    "                 window=2,\n",
    "                 size=300,\n",
    "                 sample=6e-5, \n",
    "                 alpha=0.03, \n",
    "                 min_alpha=0.0007, \n",
    "                 negative=2,\n",
    "                 workers=8\n",
    "        )\n",
    "words=list(model.wv.vocab)\n",
    "print(\"Total vocabulary size:\",len(words))\n",
    "#print(words)"
   ]
  },
  {
   "cell_type": "code",
   "execution_count": 17,
   "metadata": {},
   "outputs": [],
   "source": [
    "filename=\"word2vec_embeddings.txt\"\n",
    "model.wv.save_word2vec_format(filename, binary=False)"
   ]
  },
  {
   "cell_type": "code",
   "execution_count": 18,
   "metadata": {},
   "outputs": [],
   "source": [
    "import os\n",
    "embeddings_index={}\n",
    "f=open(os.path.join('','word2vec_embeddings.txt'),encoding='utf-8')\n",
    "for line in f:\n",
    "    values=line.split()\n",
    "    word=values[0]\n",
    "    coefs=np.asarray(values[1:])\n",
    "    embeddings_index[word]=coefs\n",
    "f.close()"
   ]
  },
  {
   "cell_type": "code",
   "execution_count": 19,
   "metadata": {},
   "outputs": [
    {
     "name": "stdout",
     "output_type": "stream",
     "text": [
      "9358\n"
     ]
    }
   ],
   "source": [
    "#num_words=len(word_index)+1\n",
    "embedding_matrix=np.zeros((vocab_size,300))\n",
    "for word,i in tokenizer.word_index.items():\n",
    "    if i>vocab_size:\n",
    "        continue\n",
    "    embedding_vector=embeddings_index.get(word)\n",
    "    if embedding_vector is not None:\n",
    "        embedding_matrix[i]=embedding_vector\n",
    "print(vocab_size)"
   ]
  },
  {
   "cell_type": "code",
   "execution_count": 20,
   "metadata": {},
   "outputs": [],
   "source": [
    "num_lstm = np.random.randint(175, 275)\n",
    "num_dense = np.random.randint(100, 150)\n",
    "rate_drop_lstm = 0.15 + np.random.rand() * 0.25\n",
    "rate_drop_dense = 0.15 + np.random.rand() * 0.25"
   ]
  },
  {
   "cell_type": "code",
   "execution_count": 21,
   "metadata": {},
   "outputs": [],
   "source": [
    "from keras.models import Sequential\n",
    "from keras.layers import Embedding, LSTM, Dense, Dropout, Masking, Activation, Input\n",
    "from keras.initializers import Constant\n",
    "from keras.optimizers import Adam\n",
    "from keras.layers.merge import concatenate\n",
    "from keras.layers.normalization import BatchNormalization\n",
    "from keras.models import Model\n",
    "\n",
    "LSTM_model = Sequential()\n",
    "embedding_layer = Embedding(vocab_size, 300, weights=[embedding_matrix], trainable=True,mask_zero=True)\n",
    "\n",
    "LSTM_model.add(embedding_layer)\n",
    "\n",
    "LSTM_model.add(LSTM(128))\n",
    "\n",
    "LSTM_model.add(Dense(1, activation='sigmoid'))\n",
    "\n",
    "LSTM_model.compile(optimizer='adam', loss='binary_crossentropy', metrics=['accuracy'])"
   ]
  },
  {
   "cell_type": "code",
   "execution_count": 22,
   "metadata": {},
   "outputs": [
    {
     "name": "stdout",
     "output_type": "stream",
     "text": [
      "Model: \"sequential_1\"\n",
      "_________________________________________________________________\n",
      "Layer (type)                 Output Shape              Param #   \n",
      "=================================================================\n",
      "embedding_1 (Embedding)      (None, None, 300)         2807400   \n",
      "_________________________________________________________________\n",
      "lstm_1 (LSTM)                (None, 128)               219648    \n",
      "_________________________________________________________________\n",
      "dense_1 (Dense)              (None, 1)                 129       \n",
      "=================================================================\n",
      "Total params: 3,027,177\n",
      "Trainable params: 3,027,177\n",
      "Non-trainable params: 0\n",
      "_________________________________________________________________\n",
      "None\n"
     ]
    }
   ],
   "source": [
    "print(LSTM_model.summary())"
   ]
  },
  {
   "cell_type": "code",
   "execution_count": 23,
   "metadata": {},
   "outputs": [
    {
     "name": "stderr",
     "output_type": "stream",
     "text": [
      "C:\\Users\\Jithu\\AppData\\Roaming\\Python\\Python37\\site-packages\\tensorflow\\python\\framework\\indexed_slices.py:434: UserWarning: Converting sparse IndexedSlices to a dense Tensor of unknown shape. This may consume a large amount of memory.\n",
      "  \"Converting sparse IndexedSlices to a dense Tensor of unknown shape. \"\n"
     ]
    },
    {
     "name": "stdout",
     "output_type": "stream",
     "text": [
      "Train on 3838 samples, validate on 960 samples\n",
      "Epoch 1/5\n",
      "3838/3838 [==============================] - 17s 4ms/step - loss: 0.5718 - accuracy: 0.7288 - val_loss: 0.4352 - val_accuracy: 0.8333\n",
      "Epoch 2/5\n",
      "3838/3838 [==============================] - 16s 4ms/step - loss: 0.2644 - accuracy: 0.9075 - val_loss: 0.3791 - val_accuracy: 0.8656\n",
      "Epoch 3/5\n",
      "3838/3838 [==============================] - 14s 4ms/step - loss: 0.1383 - accuracy: 0.9536 - val_loss: 0.4011 - val_accuracy: 0.8594\n",
      "Epoch 4/5\n",
      "3838/3838 [==============================] - 16s 4ms/step - loss: 0.0880 - accuracy: 0.9729 - val_loss: 0.5398 - val_accuracy: 0.8500\n",
      "Epoch 5/5\n",
      "3838/3838 [==============================] - 16s 4ms/step - loss: 0.0667 - accuracy: 0.9789 - val_loss: 0.4936 - val_accuracy: 0.8417\n",
      "1200/1200 [==============================] - 2s 2ms/step\n"
     ]
    }
   ],
   "source": [
    "history = LSTM_model.fit(X_train, y_train, batch_size=128, epochs=5, verbose=1, validation_split=0.2)\n",
    "\n",
    "score = LSTM_model.evaluate(X_test, y_test, verbose=1)"
   ]
  },
  {
   "cell_type": "code",
   "execution_count": 27,
   "metadata": {},
   "outputs": [],
   "source": [
    "mean_fpr = np.linspace(start=0, stop=1, num=100)\n",
    "\n",
    "def evaluate_model(X_test, y_test, model):\n",
    "    # predict probabilities for test set\n",
    "    _probs = model.predict(X_test, verbose=0)\n",
    "    # predict crisp classes for test set\n",
    "    _classes = model.predict_classes(X_test, verbose=0)\n",
    "    # reduce to 1d array\n",
    "    _probs = _probs[:, 0]\n",
    "    _classes = _classes[:, 0]\n",
    "\n",
    "    # accuracy: (tp + tn) / (p + n)\n",
    "    accuracy = accuracy_score(y_test, _classes)\n",
    "    # precision tp / (tp + fp)\n",
    "    precision = precision_score(y_test, _classes)\n",
    "    # recall: tp / (tp + fn)\n",
    "    recall = recall_score(y_test, _classes)\n",
    "    # f1: 2 tp / (2 tp + fp + fn)\n",
    "    f1 = f1_score(y_test, _classes)\n",
    "    \n",
    "    fpr, tpr, _ = roc_curve(y_test, _probs)\n",
    "    \n",
    "    tpr_transformed = np.array([interp(mean_fpr, fpr, tpr)])\n",
    "    \n",
    "    # compute the area under the curve\n",
    "    _auc = auc(fpr, tpr)\n",
    "    \n",
    "    return accuracy, precision, recall, f1, tpr_transformed,_auc"
   ]
  },
  {
   "cell_type": "code",
   "execution_count": 28,
   "metadata": {},
   "outputs": [
    {
     "name": "stdout",
     "output_type": "stream",
     "text": [
      "LSTM_accuracy: 0.84333\n",
      "LSTM_precision: 0.85764\n",
      "LSTM_recall: 0.82333\n",
      "LSTM_f1_score: 0.84014\n"
     ]
    },
    {
     "name": "stderr",
     "output_type": "stream",
     "text": [
      "C:\\Users\\Jithu\\Anaconda3\\lib\\site-packages\\ipykernel_launcher.py:23: DeprecationWarning: scipy.interp is deprecated and will be removed in SciPy 2.0.0, use numpy.interp instead\n"
     ]
    }
   ],
   "source": [
    "LSTM_accuracy, LSTM_precision, LSTM_recall, LSTM_f1_score, LSTM_tpr,LSTM_auc = evaluate_model(X_test, y_test, LSTM_model)\n",
    "print(\"LSTM_accuracy: {:.5f}\".format(LSTM_accuracy))\n",
    "print(\"LSTM_precision: {:.5f}\".format(LSTM_precision))\n",
    "print(\"LSTM_recall: {:.5f}\".format(LSTM_recall))\n",
    "print(\"LSTM_f1_score: {:.5f}\".format(LSTM_f1_score))"
   ]
  },
  {
   "cell_type": "markdown",
   "metadata": {},
   "source": [
    "# Pseudo Label "
   ]
  },
  {
   "cell_type": "code",
   "execution_count": 19,
   "metadata": {},
   "outputs": [],
   "source": [
    "pseudolabel=pd.read_csv(\"Unlabelled.csv\")"
   ]
  },
  {
   "cell_type": "code",
   "execution_count": 20,
   "metadata": {},
   "outputs": [],
   "source": [
    "pseusolabellist=[]\n",
    "for val in pseudolabel['reviews']:\n",
    "    pseusolabellist.append(val)"
   ]
  },
  {
   "cell_type": "code",
   "execution_count": 21,
   "metadata": {},
   "outputs": [],
   "source": [
    "cleanpseudolabel=clean_data(pseusolabellist)\n"
   ]
  },
  {
   "cell_type": "code",
   "execution_count": 22,
   "metadata": {},
   "outputs": [],
   "source": [
    "df_pseudo = pd.DataFrame(cleanpseudolabel)\n",
    "df_pseudo.columns = ['reviews']"
   ]
  },
  {
   "cell_type": "code",
   "execution_count": 23,
   "metadata": {},
   "outputs": [
    {
     "data": {
      "text/html": [
       "<div>\n",
       "<style scoped>\n",
       "    .dataframe tbody tr th:only-of-type {\n",
       "        vertical-align: middle;\n",
       "    }\n",
       "\n",
       "    .dataframe tbody tr th {\n",
       "        vertical-align: top;\n",
       "    }\n",
       "\n",
       "    .dataframe thead th {\n",
       "        text-align: right;\n",
       "    }\n",
       "</style>\n",
       "<table border=\"1\" class=\"dataframe\">\n",
       "  <thead>\n",
       "    <tr style=\"text-align: right;\">\n",
       "      <th></th>\n",
       "      <th>reviews</th>\n",
       "    </tr>\n",
       "  </thead>\n",
       "  <tbody>\n",
       "    <tr>\n",
       "      <th>0</th>\n",
       "      <td>purchas unit due frequent blackout area power ...</td>\n",
       "    </tr>\n",
       "    <tr>\n",
       "      <th>1</th>\n",
       "      <td>first want power up good reason never want mac...</td>\n",
       "    </tr>\n",
       "    <tr>\n",
       "      <th>2</th>\n",
       "      <td>bought backup imac got wife christma apc sinc ...</td>\n",
       "    </tr>\n",
       "    <tr>\n",
       "      <th>3</th>\n",
       "      <td>unfortun earlier review indic unit seriou flaw...</td>\n",
       "    </tr>\n",
       "    <tr>\n",
       "      <th>4</th>\n",
       "      <td>order apc backup recommend employe mine use wo...</td>\n",
       "    </tr>\n",
       "  </tbody>\n",
       "</table>\n",
       "</div>"
      ],
      "text/plain": [
       "                                             reviews\n",
       "0  purchas unit due frequent blackout area power ...\n",
       "1  first want power up good reason never want mac...\n",
       "2  bought backup imac got wife christma apc sinc ...\n",
       "3  unfortun earlier review indic unit seriou flaw...\n",
       "4  order apc backup recommend employe mine use wo..."
      ]
     },
     "execution_count": 23,
     "metadata": {},
     "output_type": "execute_result"
    }
   ],
   "source": [
    "df_pseudo.head()"
   ]
  },
  {
   "cell_type": "code",
   "execution_count": 24,
   "metadata": {},
   "outputs": [],
   "source": [
    "pseudo_train=df_pseudo['reviews']\n",
    "pseudo_train = tokenizer.texts_to_sequences(pseudo_train)"
   ]
  },
  {
   "cell_type": "code",
   "execution_count": 35,
   "metadata": {},
   "outputs": [],
   "source": [
    "pseudo_train = pad_sequences(pseudo_train, padding='post', maxlen=max_length)"
   ]
  },
  {
   "cell_type": "code",
   "execution_count": 37,
   "metadata": {},
   "outputs": [],
   "source": [
    "pseudo_predict=LSTM_model.predict_classes(pseudo_train)"
   ]
  },
  {
   "cell_type": "code",
   "execution_count": 38,
   "metadata": {},
   "outputs": [],
   "source": [
    "pseudo_label = pd.DataFrame(pseudo_predict)\n",
    "pseudo_label.columns=['sentiment']"
   ]
  },
  {
   "cell_type": "code",
   "execution_count": 39,
   "metadata": {},
   "outputs": [],
   "source": [
    "final_pseudo=df_pseudo['reviews']\n",
    "final_pseudolabel=pseudo_label['sentiment']"
   ]
  },
  {
   "cell_type": "code",
   "execution_count": 40,
   "metadata": {},
   "outputs": [
    {
     "data": {
      "text/plain": [
       "(5998,)"
      ]
     },
     "execution_count": 40,
     "metadata": {},
     "output_type": "execute_result"
    }
   ],
   "source": [
    "X.shape"
   ]
  },
  {
   "cell_type": "code",
   "execution_count": 41,
   "metadata": {},
   "outputs": [
    {
     "data": {
      "text/plain": [
       "(7998,)"
      ]
     },
     "execution_count": 41,
     "metadata": {},
     "output_type": "execute_result"
    }
   ],
   "source": [
    "X_pseudo = np.concatenate((X, final_pseudo), axis=0)\n",
    "Y_pseudo = np.concatenate((y, final_pseudolabel), axis=0)\n",
    "\n",
    "X_pseudo.shape"
   ]
  },
  {
   "cell_type": "code",
   "execution_count": 42,
   "metadata": {},
   "outputs": [],
   "source": [
    "finallist_pseudo=[]\n",
    "for text in X_pseudo:\n",
    "    newlist_pseudo=[]\n",
    "    word_list_pseudo=text.split(' ')\n",
    "    for word in word_list_pseudo:       \n",
    "        newlist_pseudo.append(word)\n",
    "    finallist_pseudo.append(newlist_pseudo)"
   ]
  },
  {
   "cell_type": "code",
   "execution_count": 43,
   "metadata": {},
   "outputs": [
    {
     "data": {
      "text/plain": [
       "((6398,), (6398,), (1600,), (1600,))"
      ]
     },
     "execution_count": 43,
     "metadata": {},
     "output_type": "execute_result"
    }
   ],
   "source": [
    "X_pseudo_train, X_pseudo_test, y_pseudo_train, y_pseudo_test = train_test_split(X_pseudo, Y_pseudo, test_size=0.2,stratify=Y_pseudo,shuffle=True,random_state = 1)\n",
    "X_pseudo_train.shape, y_pseudo_train.shape, X_pseudo_test.shape, y_pseudo_test.shape"
   ]
  },
  {
   "cell_type": "code",
   "execution_count": 44,
   "metadata": {},
   "outputs": [],
   "source": [
    "from keras.preprocessing.text import Tokenizer\n",
    "\n",
    "tokenizer = Tokenizer()\n",
    "tokenizer.fit_on_texts(X_pseudo_train)\n",
    "\n",
    "X_pseudo_train = tokenizer.texts_to_sequences(X_pseudo_train)\n",
    "X_pseudo_test = tokenizer.texts_to_sequences(X_pseudo_test)"
   ]
  },
  {
   "cell_type": "code",
   "execution_count": 45,
   "metadata": {},
   "outputs": [
    {
     "data": {
      "text/plain": [
       "11240"
      ]
     },
     "execution_count": 45,
     "metadata": {},
     "output_type": "execute_result"
    }
   ],
   "source": [
    "from keras.preprocessing.sequence import pad_sequences\n",
    "from keras.layers import Dense, Input, LSTM, Embedding, Dropout, Activation\n",
    "\n",
    "vocab_size = len(tokenizer.word_index) + 1\n",
    "\n",
    "max_length = 100\n",
    "\n",
    "X_pseudo_train = pad_sequences(X_pseudo_train, padding='post', maxlen=max_length)\n",
    "X_pseudo_test = pad_sequences(X_pseudo_test, padding='post', maxlen=max_length)\n",
    "vocab_size"
   ]
  },
  {
   "cell_type": "code",
   "execution_count": 46,
   "metadata": {},
   "outputs": [
    {
     "name": "stdout",
     "output_type": "stream",
     "text": [
      "Total vocabulary size: 3571\n"
     ]
    }
   ],
   "source": [
    "from gensim.models import Word2Vec\n",
    "\n",
    "pseudo_model = Word2Vec(finallist_pseudo,min_count=5,\n",
    "                 window=2,\n",
    "                 size=300,\n",
    "                 sample=6e-5, \n",
    "                 alpha=0.03, \n",
    "                 min_alpha=0.0007, \n",
    "                 negative=2,\n",
    "                 workers=8\n",
    "        )\n",
    "words=list(pseudo_model.wv.vocab)\n",
    "print(\"Total vocabulary size:\",len(words))"
   ]
  },
  {
   "cell_type": "code",
   "execution_count": 47,
   "metadata": {},
   "outputs": [],
   "source": [
    "filename=\"pseudolabel_word2vec_embeddings.txt\"\n",
    "pseudo_model.wv.save_word2vec_format(filename, binary=False)"
   ]
  },
  {
   "cell_type": "code",
   "execution_count": 48,
   "metadata": {},
   "outputs": [],
   "source": [
    "import os\n",
    "embeddings_index={}\n",
    "f=open(os.path.join('','pseudolabel_word2vec_embeddings.txt'),encoding='utf-8')\n",
    "for line in f:\n",
    "    values=line.split()\n",
    "    word=values[0]\n",
    "    coefs=np.asarray(values[1:])\n",
    "    embeddings_index[word]=coefs\n",
    "f.close()"
   ]
  },
  {
   "cell_type": "code",
   "execution_count": 49,
   "metadata": {},
   "outputs": [
    {
     "name": "stdout",
     "output_type": "stream",
     "text": [
      "11240\n"
     ]
    }
   ],
   "source": [
    "embedding_matrix=np.zeros((vocab_size,300))\n",
    "for word,i in tokenizer.word_index.items():\n",
    "    if i>vocab_size:\n",
    "        continue\n",
    "    embedding_vector=embeddings_index.get(word)\n",
    "    if embedding_vector is not None:\n",
    "        embedding_matrix[i]=embedding_vector\n",
    "print(vocab_size)"
   ]
  },
  {
   "cell_type": "code",
   "execution_count": 50,
   "metadata": {},
   "outputs": [],
   "source": [
    "from keras.models import Sequential\n",
    "from keras.layers import Embedding, LSTM, Dense, Dropout, Masking, Activation, Input\n",
    "from keras.initializers import Constant\n",
    "from keras.optimizers import Adam\n",
    "from keras.layers.merge import concatenate\n",
    "from keras.layers.normalization import BatchNormalization\n",
    "from keras.models import Model\n",
    "\n",
    "Pseudolabel_lstm_model = Sequential()\n",
    "embedding_layer = Embedding(vocab_size, 300, weights=[embedding_matrix], trainable=True,mask_zero=True)\n",
    "\n",
    "Pseudolabel_lstm_model.add(embedding_layer)\n",
    "\n",
    "Pseudolabel_lstm_model.add(LSTM(128))\n",
    "\n",
    "Pseudolabel_lstm_model.add(Dense(1, activation='sigmoid'))\n",
    "\n",
    "Pseudolabel_lstm_model.compile(optimizer='adam', loss='binary_crossentropy', metrics=['accuracy'])"
   ]
  },
  {
   "cell_type": "code",
   "execution_count": 51,
   "metadata": {},
   "outputs": [
    {
     "name": "stdout",
     "output_type": "stream",
     "text": [
      "Model: \"sequential_2\"\n",
      "_________________________________________________________________\n",
      "Layer (type)                 Output Shape              Param #   \n",
      "=================================================================\n",
      "embedding_2 (Embedding)      (None, None, 300)         3372000   \n",
      "_________________________________________________________________\n",
      "lstm_2 (LSTM)                (None, 128)               219648    \n",
      "_________________________________________________________________\n",
      "dense_2 (Dense)              (None, 1)                 129       \n",
      "=================================================================\n",
      "Total params: 3,591,777\n",
      "Trainable params: 3,591,777\n",
      "Non-trainable params: 0\n",
      "_________________________________________________________________\n"
     ]
    }
   ],
   "source": [
    "Pseudolabel_lstm_model.summary()"
   ]
  },
  {
   "cell_type": "code",
   "execution_count": 52,
   "metadata": {},
   "outputs": [
    {
     "name": "stderr",
     "output_type": "stream",
     "text": [
      "C:\\Users\\Jithu\\AppData\\Roaming\\Python\\Python37\\site-packages\\tensorflow\\python\\framework\\indexed_slices.py:434: UserWarning: Converting sparse IndexedSlices to a dense Tensor of unknown shape. This may consume a large amount of memory.\n",
      "  \"Converting sparse IndexedSlices to a dense Tensor of unknown shape. \"\n"
     ]
    },
    {
     "name": "stdout",
     "output_type": "stream",
     "text": [
      "Train on 5118 samples, validate on 1280 samples\n",
      "Epoch 1/5\n",
      "5118/5118 [==============================] - 22s 4ms/step - loss: 0.5419 - accuracy: 0.7169 - val_loss: 0.3399 - val_accuracy: 0.8555\n",
      "Epoch 2/5\n",
      "5118/5118 [==============================] - 20s 4ms/step - loss: 0.2260 - accuracy: 0.9174 - val_loss: 0.3195 - val_accuracy: 0.8633\n",
      "Epoch 3/5\n",
      "5118/5118 [==============================] - 20s 4ms/step - loss: 0.1118 - accuracy: 0.9611 - val_loss: 0.3860 - val_accuracy: 0.8586\n",
      "Epoch 4/5\n",
      "5118/5118 [==============================] - 20s 4ms/step - loss: 0.0768 - accuracy: 0.9764 - val_loss: 0.4000 - val_accuracy: 0.8562\n",
      "Epoch 5/5\n",
      "5118/5118 [==============================] - 21s 4ms/step - loss: 0.0653 - accuracy: 0.9789 - val_loss: 0.4651 - val_accuracy: 0.8555\n",
      "1600/1600 [==============================] - 3s 2ms/step\n"
     ]
    }
   ],
   "source": [
    "history = Pseudolabel_lstm_model.fit(X_pseudo_train, y_pseudo_train, batch_size=128, epochs=5, verbose=1, validation_split=0.2)\n",
    "\n",
    "score = Pseudolabel_lstm_model.evaluate(X_pseudo_test, y_pseudo_test, verbose=1)"
   ]
  },
  {
   "cell_type": "code",
   "execution_count": 53,
   "metadata": {},
   "outputs": [
    {
     "name": "stdout",
     "output_type": "stream",
     "text": [
      "Pseudolabel_LSTM_accuracy: 0.85437\n",
      "Pseudolabel_LSTM_precision: 0.86777\n",
      "Pseudolabel_LSTM_recall: 0.85864\n",
      "Pseudolabel_LSTM_f1_score: 0.86318\n"
     ]
    },
    {
     "name": "stderr",
     "output_type": "stream",
     "text": [
      "C:\\Users\\Jithu\\Anaconda3\\lib\\site-packages\\ipykernel_launcher.py:23: DeprecationWarning: scipy.interp is deprecated and will be removed in SciPy 2.0.0, use numpy.interp instead\n"
     ]
    }
   ],
   "source": [
    "Pseudolabel_LSTM_accuracy, Pseudolabel_LSTM_precision, Pseudolabel_LSTM_recall, Pseudolabel_LSTM_f1_score, Pseudolabel_LSTM_tpr,Pseudolabel_LSTM_auc = evaluate_model(X_pseudo_test, y_pseudo_test, Pseudolabel_lstm_model)\n",
    "print(\"Pseudolabel_LSTM_accuracy: {:.5f}\".format(Pseudolabel_LSTM_accuracy))\n",
    "print(\"Pseudolabel_LSTM_precision: {:.5f}\".format(Pseudolabel_LSTM_precision))\n",
    "print(\"Pseudolabel_LSTM_recall: {:.5f}\".format(Pseudolabel_LSTM_recall))\n",
    "print(\"Pseudolabel_LSTM_f1_score: {:.5f}\".format(Pseudolabel_LSTM_f1_score))"
   ]
  },
  {
   "cell_type": "markdown",
   "metadata": {},
   "source": [
    "# Bar Plot"
   ]
  },
  {
   "cell_type": "code",
   "execution_count": 56,
   "metadata": {},
   "outputs": [
    {
     "data": {
      "image/png": "[encoded data removed]",
      "text/plain": [
       "<Figure size 432x288 with 1 Axes>"
      ]
     },
     "metadata": {
      "needs_background": "light"
     },
     "output_type": "display_data"
    }
   ],
   "source": [
    "LSTM_metrics = np.array([LSTM_accuracy, LSTM_precision, LSTM_recall, LSTM_f1_score])\n",
    "Pseudolabel_LSTM_metrics = np.array([Pseudolabel_LSTM_accuracy, Pseudolabel_LSTM_precision, Pseudolabel_LSTM_recall, Pseudolabel_LSTM_f1_score])\n",
    "index = ['accuracy', 'precision', 'recall', 'F1-score']\n",
    "df_metrics = pd.DataFrame({'LSTM': LSTM_metrics,'Pseudolabel_LSTM': Pseudolabel_LSTM_metrics }, index=index)\n",
    "df_metrics.plot.bar(rot=0)\n",
    "plt.legend(loc=\"lower right\")\n",
    "plt.show()"
   ]
  },
  {
   "cell_type": "markdown",
   "metadata": {},
   "source": [
    "# ROC Curve"
   ]
  },
  {
   "cell_type": "code",
   "execution_count": 57,
   "metadata": {},
   "outputs": [
    {
     "data": {
      "image/png": "[encoded data removed]",
      "text/plain": [
       "<Figure size 432x288 with 1 Axes>"
      ]
     },
     "metadata": {
      "needs_background": "light"
     },
     "output_type": "display_data"
    }
   ],
   "source": [
    "plt.plot([0, 1], [0, 1], linestyle='--', lw=2, color='r', label='Chance', alpha=0.8)\n",
    "plt.plot(mean_fpr, LSTM_tpr[0,:], lw=2, color='blue', label='LSTM (AUC = %0.2f)' % (LSTM_auc), alpha=0.8)\n",
    "plt.plot(mean_fpr, Pseudolabel_LSTM_tpr[0,:], lw=2, color='orange', label='Pseudolabel_LSTM (AUC = %0.2f)' % (Pseudolabel_LSTM_auc), alpha=0.8)\n",
    "plt.xlabel('False Positive Rate')\n",
    "plt.ylabel('True Positive Rate')\n",
    "plt.title('ROC curves for multiple classifiers')\n",
    "plt.legend(loc=\"lower right\")\n",
    "plt.show()"
   ]
  },
  {
   "cell_type": "code",
   "execution_count": null,
   "metadata": {},
   "outputs": [],
   "source": []
  }
 ],
 "metadata": {
  "kernelspec": {
   "display_name": "Python 3",
   "language": "python",
   "name": "python3"
  },
  "language_info": {
   "codemirror_mode": {
    "name": "ipython",
    "version": 3
   },
   "file_extension": ".py",
   "mimetype": "text/x-python",
   "name": "python",
   "nbconvert_exporter": "python",
   "pygments_lexer": "ipython3",
   "version": "3.7.3"
  }
 },
 "nbformat": 4,
 "nbformat_minor": 2
}
